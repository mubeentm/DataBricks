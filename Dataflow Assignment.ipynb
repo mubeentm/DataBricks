{
 "cells": [
  {
   "cell_type": "code",
   "execution_count": 0,
   "metadata": {
    "application/vnd.databricks.v1+cell": {
     "cellMetadata": {
      "byteLimit": 2048000,
      "rowLimit": 10000
     },
     "inputWidgets": {},
     "nuid": "fd6b0722-6be9-4d68-a835-e1338fee68f9",
     "showTitle": false,
     "title": ""
    }
   },
   "outputs": [
    {
     "output_type": "execute_result",
     "data": {
      "text/plain": [
       "[FileInfo(path='dbfs:/mnt/employeedata/dbo.Employee.csv', name='dbo.Employee.csv', size=66254, modificationTime=1722074169000)]"
      ]
     },
     "execution_count": 1,
     "metadata": {},
     "output_type": "execute_result"
    }
   ],
   "source": [
    "adls_account_name = \"datalakedemome\" \n",
    "adls_container_name = \"lake\" \n",
    "adls_mount_point = \"/mnt/employeedata\"\n",
    "\n",
    "configs = {\n",
    "    f\"fs.azure.account.key.{adls_account_name}.blob.core.windows.net\": \"eSxC/r4ljns4ZizgMVFsy4tU+/eUCRdr9pOfJ1fpPtdrYfVcbSUPNgg17cqFtKugewjaI3NavGl2+AStpboORw==\"\n",
    "}\n",
    "\n",
    "dbutils.fs.mount(\n",
    "    source=f\"wasbs://{adls_container_name}@{adls_account_name}.blob.core.windows.net/\",\n",
    "    mount_point=adls_mount_point,\n",
    "    extra_configs=configs\n",
    ")\n",
    "\n",
    "dbutils.fs.ls(adls_mount_point)"
   ]
  },
  {
   "cell_type": "code",
   "execution_count": 0,
   "metadata": {
    "application/vnd.databricks.v1+cell": {
     "cellMetadata": {
      "byteLimit": 2048000,
      "rowLimit": 10000
     },
     "inputWidgets": {},
     "nuid": "a059148d-fd25-4608-ad02-0c072ed137e5",
     "showTitle": false,
     "title": ""
    }
   },
   "outputs": [],
   "source": [
    "df = spark.read.csv(adls_mount_point, inferSchema = True, header = True)"
   ]
  },
  {
   "cell_type": "code",
   "execution_count": 0,
   "metadata": {
    "application/vnd.databricks.v1+cell": {
     "cellMetadata": {
      "byteLimit": 2048000,
      "rowLimit": 10000
     },
     "inputWidgets": {},
     "nuid": "82e7e2d9-c21f-4231-bcc1-6b1fedd8a97b",
     "showTitle": false,
     "title": ""
    }
   },
   "outputs": [
    {
     "output_type": "stream",
     "name": "stdout",
     "output_type": "stream",
     "text": [
      "+---+---------+----------+--------------------+------+------+-----------+\n| id|    ename|  hiredate|          department|salary|gender|    country|\n+---+---------+----------+--------------------+------+------+-----------+\n|  1|   Waylon|2021-03-29|             Support| 76455|  Male|      China|\n|  2|   Ailene|2021-03-15|           Marketing| 59224|  Male|Philippines|\n|  3|  Bernete|2021-01-10|         Engineering| 65091|Female|      Egypt|\n|  4|   Xylina|2021-02-27|          Accounting| 36645|Female|   Thailand|\n|  5| Marcello|2020-09-20|Business Development| 32546|  Male|   Colombia|\n|  6|  Tamqrah|2020-10-04|Business Development| 32379|  Male|   Colombia|\n|  7|     Niel|2020-10-19|           Marketing| 81266|Female|    Finland|\n|  8|     Mina|2020-10-12|  Product Management| 69214|Female| Madagascar|\n|  9| Annelise|2021-02-04|Business Development| 44301|Female|  Indonesia|\n| 10|      Ame|2020-09-04|  Product Management| 96445|Female|     Russia|\n| 11|Claudetta|2020-12-27|               Legal| 33489|  Male|      Japan|\n| 12|    Marga|2020-12-29|               Legal| 63804|  Male|   Slovenia|\n| 13|    Arman|2021-02-09|          Accounting| 95071|  Male|   Portugal|\n| 14|  Isadora|2021-01-29|           Marketing| 70608|  Male|   Thailand|\n| 15|   Sandra|2020-12-15|            Services| 29605|  Male|  Indonesia|\n| 16|  Edouard|2020-07-31|             Support| 63551|  Male|Philippines|\n| 17|   Tandie|2020-09-25|     Human Resources| 38348|  Male|      China|\n| 18|   Sherie|2021-05-21|          Accounting| 77643|  Male|     Russia|\n| 19|  Amelita|2020-05-31|            Services| 43463|  Male|    Vietnam|\n| 20|   Kelsey|2020-09-05|               Sales| 16123|  Male|      China|\n+---+---------+----------+--------------------+------+------+-----------+\nonly showing top 20 rows\n\n"
     ]
    }
   ],
   "source": [
    "df.show()"
   ]
  },
  {
   "cell_type": "code",
   "execution_count": 0,
   "metadata": {
    "application/vnd.databricks.v1+cell": {
     "cellMetadata": {
      "byteLimit": 2048000,
      "rowLimit": 10000
     },
     "inputWidgets": {},
     "nuid": "f81e2a7d-d15d-4dca-9b97-3f6dd48ddb83",
     "showTitle": false,
     "title": ""
    }
   },
   "outputs": [],
   "source": [
    "from pyspark.sql.functions import *\n",
    "new_df = df.withColumn(\"Updated_Salary\", df.salary + 1000).withColumn(\"hiredate\", to_date(df.month_id, 'yyyy-MM-dd'))"
   ]
  },
  {
   "cell_type": "code",
   "execution_count": 0,
   "metadata": {
    "application/vnd.databricks.v1+cell": {
     "cellMetadata": {
      "byteLimit": 2048000,
      "rowLimit": 10000
     },
     "inputWidgets": {},
     "nuid": "9f1d5e54-7316-4f16-a6ac-30b9cd1b1c44",
     "showTitle": false,
     "title": ""
    }
   },
   "outputs": [
    {
     "output_type": "stream",
     "name": "stdout",
     "output_type": "stream",
     "text": [
      "+---+---------+----------+--------------------+------+------+-----------+-------------+\n| id|    ename|  hiredate|          department|salary|gender|    country|Apdated_salry|\n+---+---------+----------+--------------------+------+------+-----------+-------------+\n|  1|   Waylon|2021-03-29|             Support| 76455|  Male|      China|        77455|\n|  2|   Ailene|2021-03-15|           Marketing| 59224|  Male|Philippines|        60224|\n|  3|  Bernete|2021-01-10|         Engineering| 65091|Female|      Egypt|        66091|\n|  4|   Xylina|2021-02-27|          Accounting| 36645|Female|   Thailand|        37645|\n|  5| Marcello|2020-09-20|Business Development| 32546|  Male|   Colombia|        33546|\n|  6|  Tamqrah|2020-10-04|Business Development| 32379|  Male|   Colombia|        33379|\n|  7|     Niel|2020-10-19|           Marketing| 81266|Female|    Finland|        82266|\n|  8|     Mina|2020-10-12|  Product Management| 69214|Female| Madagascar|        70214|\n|  9| Annelise|2021-02-04|Business Development| 44301|Female|  Indonesia|        45301|\n| 10|      Ame|2020-09-04|  Product Management| 96445|Female|     Russia|        97445|\n| 11|Claudetta|2020-12-27|               Legal| 33489|  Male|      Japan|        34489|\n| 12|    Marga|2020-12-29|               Legal| 63804|  Male|   Slovenia|        64804|\n| 13|    Arman|2021-02-09|          Accounting| 95071|  Male|   Portugal|        96071|\n| 14|  Isadora|2021-01-29|           Marketing| 70608|  Male|   Thailand|        71608|\n| 15|   Sandra|2020-12-15|            Services| 29605|  Male|  Indonesia|        30605|\n| 16|  Edouard|2020-07-31|             Support| 63551|  Male|Philippines|        64551|\n| 17|   Tandie|2020-09-25|     Human Resources| 38348|  Male|      China|        39348|\n| 18|   Sherie|2021-05-21|          Accounting| 77643|  Male|     Russia|        78643|\n| 19|  Amelita|2020-05-31|            Services| 43463|  Male|    Vietnam|        44463|\n| 20|   Kelsey|2020-09-05|               Sales| 16123|  Male|      China|        17123|\n+---+---------+----------+--------------------+------+------+-----------+-------------+\nonly showing top 20 rows\n\n"
     ]
    }
   ],
   "source": [
    "new_df = new_df.withColumn(\"YearID\",year(hiredate))\n",
    "new_df.show()"
   ]
  },
  {
   "cell_type": "code",
   "execution_count": 0,
   "metadata": {
    "application/vnd.databricks.v1+cell": {
     "cellMetadata": {
      "byteLimit": 2048000,
      "rowLimit": 10000
     },
     "inputWidgets": {},
     "nuid": "ff549d1c-d011-4c47-bb04-4b14c5577a0a",
     "showTitle": false,
     "title": ""
    }
   },
   "outputs": [
    {
     "output_type": "stream",
     "name": "stdout",
     "output_type": "stream",
     "text": [
      "Transformed data written to abfss://newcont@datalakedemome.dfs.core.windows.net/transformed_data\n"
     ]
    }
   ],
   "source": [
    "# Define storage account and container details for ADLS\n",
    "adls_storage_account_name = \"datalakedemome\"\n",
    "adls_container_name = \"newcont\"  \n",
    "output_path = f\"abfss://{adls_container_name}@{adls_storage_account_name}.dfs.core.windows.net/transformed_data\"\n",
    " \n",
    "spark.conf.set(\n",
    "    f\"fs.azure.account.key.{adls_storage_account_name}.dfs.core.windows.net\",\n",
    "    \"eSxC/r4ljns4ZizgMVFsy4tU+/eUCRdr9pOfJ1fpPtdrYfVcbSUPNgg17cqFtKugewjaI3NavGl2+AStpboORw==\"\n",
    ")\n",
    "\n",
    "df.write.mode('overwrite').option(\"header\", \"true\").csv(output_path)\n",
    "\n",
    "print(f\"Transformed data to {output_path}\")"
   ]
  },
  {
   "cell_type": "code",
   "execution_count": 0,
   "metadata": {
    "application/vnd.databricks.v1+cell": {
     "cellMetadata": {},
     "inputWidgets": {},
     "nuid": "720594b8-aa91-4762-a6e0-caa5f68f2aef",
     "showTitle": false,
     "title": ""
    }
   },
   "outputs": [],
   "source": []
  }
 ],
 "metadata": {
  "application/vnd.databricks.v1+notebook": {
   "dashboards": [],
   "environmentMetadata": null,
   "language": "python",
   "notebookMetadata": {
    "pythonIndentUnit": 4
   },
   "notebookName": "Dataflow Assignment",
   "widgets": {}
  }
 },
 "nbformat": 4,
 "nbformat_minor": 0
}
