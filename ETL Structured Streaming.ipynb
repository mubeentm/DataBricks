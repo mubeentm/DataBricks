{
 "cells": [
  {
   "cell_type": "code",
   "execution_count": 0,
   "metadata": {
    "application/vnd.databricks.v1+cell": {
     "cellMetadata": {
      "byteLimit": 2048000,
      "rowLimit": 10000
     },
     "inputWidgets": {},
     "nuid": "cd46d09a-6d3b-4146-b20a-af6c25e6e4c4",
     "showTitle": false,
     "title": ""
    }
   },
   "outputs": [],
   "source": [
    "# Setting spark session\n",
    "spark.conf.set(\n",
    "    \"fs.azure.account.key.datalakedemomy.blob.core.windows.net\",\n",
    "    \"28DDU8+w0matKyqgOdDdDkhAf7JEfdeyrAjNnN2onOx322kbS7pvKtha875nVR9juWQPhy4pZz4V+ASt4/mkbw==\"\n",
    ")"
   ]
  },
  {
   "cell_type": "code",
   "execution_count": 0,
   "metadata": {
    "application/vnd.databricks.v1+cell": {
     "cellMetadata": {
      "byteLimit": 2048000,
      "rowLimit": 10000
     },
     "inputWidgets": {},
     "nuid": "085d5239-9f4d-487f-8023-39ba89fe0b94",
     "showTitle": false,
     "title": ""
    }
   },
   "outputs": [
    {
     "output_type": "display_data",
     "data": {
      "text/html": [
       "<style scoped>\n",
       "  .table-result-container {\n",
       "    max-height: 300px;\n",
       "    overflow: auto;\n",
       "  }\n",
       "  table, th, td {\n",
       "    border: 1px solid black;\n",
       "    border-collapse: collapse;\n",
       "  }\n",
       "  th, td {\n",
       "    padding: 5px;\n",
       "  }\n",
       "  th {\n",
       "    text-align: left;\n",
       "  }\n",
       "</style><div class='table-result-container'><table class='table-result'><thead style='background-color: white'><tr><th>path</th><th>name</th><th>size</th><th>modificationTime</th></tr></thead><tbody><tr><td>wasbs://greentaxi@datalakedemomy.blob.core.windows.net/2021_Green_Taxi_Trip_Data.csv</td><td>2021_Green_Taxi_Trip_Data.csv</td><td>102329648</td><td>1721891636000</td></tr></tbody></table></div>"
      ]
     },
     "metadata": {
      "application/vnd.databricks.v1+output": {
       "addedWidgets": {},
       "aggData": [],
       "aggError": "",
       "aggOverflow": false,
       "aggSchema": [],
       "aggSeriesLimitReached": false,
       "aggType": "",
       "arguments": {},
       "columnCustomDisplayInfos": {},
       "data": [
        [
         "wasbs://greentaxi@datalakedemomy.blob.core.windows.net/2021_Green_Taxi_Trip_Data.csv",
         "2021_Green_Taxi_Trip_Data.csv",
         102329648,
         1721891636000
        ]
       ],
       "datasetInfos": [],
       "dbfsResultPath": null,
       "isJsonSchema": true,
       "metadata": {},
       "overflow": false,
       "plotOptions": {
        "customPlotOptions": {},
        "displayType": "table",
        "pivotAggregation": null,
        "pivotColumns": null,
        "xColumns": null,
        "yColumns": null
       },
       "removedWidgets": [],
       "schema": [
        {
         "metadata": "{}",
         "name": "path",
         "type": "\"string\""
        },
        {
         "metadata": "{}",
         "name": "name",
         "type": "\"string\""
        },
        {
         "metadata": "{}",
         "name": "size",
         "type": "\"long\""
        },
        {
         "metadata": "{}",
         "name": "modificationTime",
         "type": "\"long\""
        }
       ],
       "type": "table"
      }
     },
     "output_type": "display_data"
    }
   ],
   "source": [
    "# Step 2: List the files in the Blob Storage using access key\n",
    "display(dbutils.fs.ls(\"wasbs://greentaxi@datalakedemomy.blob.core.windows.net/\"))\n",
    "\n"
   ]
  },
  {
   "cell_type": "code",
   "execution_count": 0,
   "metadata": {
    "application/vnd.databricks.v1+cell": {
     "cellMetadata": {
      "byteLimit": 2048000,
      "rowLimit": 10000
     },
     "inputWidgets": {},
     "nuid": "584d3a1d-5403-41fb-8ad7-9bc21995139b",
     "showTitle": false,
     "title": ""
    }
   },
   "outputs": [],
   "source": [
    "# Step 3: Read a CSV file from Blob Storage using access key\n",
    "df_csv = spark.read.csv(\"wasbs://greentaxi@datalakedemomy.blob.core.windows.net/2021_Green_Taxi_Trip_Data.csv\", header=True, inferSchema=True)"
   ]
  },
  {
   "cell_type": "code",
   "execution_count": 0,
   "metadata": {
    "application/vnd.databricks.v1+cell": {
     "cellMetadata": {
      "byteLimit": 2048000,
      "rowLimit": 10000
     },
     "inputWidgets": {},
     "nuid": "31127c47-6abc-4ca0-a46b-72f7a5818746",
     "showTitle": false,
     "title": ""
    }
   },
   "outputs": [],
   "source": [
    "# green_taxiDF1 = df_csv.repartition(10).write.mode(\"append\").option(\"header\",\"true\").parquet(\"/Volumes/azuredatabme/default/greentaxi_new\")"
   ]
  },
  {
   "cell_type": "code",
   "execution_count": 0,
   "metadata": {
    "application/vnd.databricks.v1+cell": {
     "cellMetadata": {
      "byteLimit": 2048000,
      "rowLimit": 10000
     },
     "inputWidgets": {},
     "nuid": "8f6a9821-1860-473c-99a4-620da5fd60e9",
     "showTitle": false,
     "title": ""
    }
   },
   "outputs": [],
   "source": [
    "from pyspark.sql.functions import *\n",
    "\n",
    "\n",
    "# Step 1 : Create a ReadStream\n",
    "taxiReadStream = spark.readStream.format(\"csv\").schema(df_csv.schema).option(\"header\",\"true\").load(\"wasbs://greentaxi@datalakedemomy.blob.core.windows.net/2021_Green_Taxi_Trip_Data.csv\")\n",
    "\n"
   ]
  },
  {
   "cell_type": "code",
   "execution_count": 0,
   "metadata": {
    "application/vnd.databricks.v1+cell": {
     "cellMetadata": {},
     "inputWidgets": {},
     "nuid": "2cddae40-b5c5-4760-8a77-8090216f4f99",
     "showTitle": false,
     "title": ""
    }
   },
   "outputs": [],
   "source": [
    "# step 2 : Convert String Stype to timestamp\n",
    "taxiReadStream = taxiReadStream.withColumn(\"lpep_pickup_datetime\",to_timestamp(col(\"lpep_pickup_datetime\"),\"yyyy-MM-dd HH:mm:ss\"))"
   ]
  },
  {
   "cell_type": "code",
   "execution_count": 0,
   "metadata": {
    "application/vnd.databricks.v1+cell": {
     "cellMetadata": {},
     "inputWidgets": {},
     "nuid": "b1e4e88e-c054-4eac-82d3-03c5613fe0fb",
     "showTitle": false,
     "title": ""
    }
   },
   "outputs": [],
   "source": [
    "# step 3 : Add a watermark and perform the aggregation (window of aggregate operation) \n",
    "# Use windowing based on event time column\n",
    "taxitransformation = taxiReadStream\\\n",
    "    .withWatermark(\"lpep_pickup_datetime\", \"10 minutes\")\\\n",
    "        .groupBy(window(col(\"lpep_pickup_datetime\"), \"10 minutes\"))\\\n",
    "        .sum(\"fare_amount\")"
   ]
  },
  {
   "cell_type": "code",
   "execution_count": 0,
   "metadata": {
    "application/vnd.databricks.v1+cell": {
     "cellMetadata": {},
     "inputWidgets": {},
     "nuid": "d1d2f17f-850f-42a2-b627-c7b93996f76a",
     "showTitle": false,
     "title": ""
    }
   },
   "outputs": [],
   "source": [
    "\n",
    "\n",
    "\n",
    "\n",
    "\n",
    "\n",
    "# step 4 : Write the aggregated data to parquet file\n",
    "taxiWriteStream = taxitransformation.writeStream.outputMode(\"append\")\\\n",
    ".format(\"parquet\")\\\n",
    ".option(\"path\",\"wasbs://<your-container-name>@<your-storage-account-name>.blob.core.windows.net/<path-to-your-folder>\") \\\n",
    ".option(\"checkpointLocation\", \"wasbs://<your-container-name>@<your-storage-account-name>.blob.core.windows.net/<path-to-your-checkpoint-folder>\")\\\n",
    ".start()\n",
    "\n",
    "taxiWriteStream.awaitTermination()"
   ]
  }
 ],
 "metadata": {
  "application/vnd.databricks.v1+notebook": {
   "dashboards": [],
   "environmentMetadata": null,
   "language": "python",
   "notebookMetadata": {
    "pythonIndentUnit": 4
   },
   "notebookName": "ETL Structured Streaming",
   "widgets": {}
  }
 },
 "nbformat": 4,
 "nbformat_minor": 0
}
