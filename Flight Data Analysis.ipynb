{
 "cells": [
  {
   "cell_type": "code",
   "execution_count": 0,
   "metadata": {
    "application/vnd.databricks.v1+cell": {
     "cellMetadata": {
      "byteLimit": 2048000,
      "rowLimit": 10000
     },
     "inputWidgets": {},
     "nuid": "67bc2c09-8e25-41e1-b334-785c32d4d5bc",
     "showTitle": false,
     "title": ""
    }
   },
   "outputs": [
    {
     "output_type": "execute_result",
     "data": {
      "text/html": [
       "\n",
       "        <div>\n",
       "            <p><b>SparkContext</b></p>\n",
       "\n",
       "            <p><a href=\"/?o=2653246151587687#setting/sparkui/0724-185245-xhwpbrhw/driver-4935396579416904288\">Spark UI</a></p>\n",
       "\n",
       "            <dl>\n",
       "              <dt>Version</dt>\n",
       "                <dd><code>v3.5.0</code></dd>\n",
       "              <dt>Master</dt>\n",
       "                <dd><code>spark://10.139.64.4:7077</code></dd>\n",
       "              <dt>AppName</dt>\n",
       "                <dd><code>Databricks Shell</code></dd>\n",
       "            </dl>\n",
       "        </div>\n",
       "        "
      ],
      "text/plain": [
       "<SparkContext master=spark://10.139.64.4:7077 appName=Databricks Shell>"
      ]
     },
     "execution_count": 1,
     "metadata": {},
     "output_type": "execute_result"
    }
   ],
   "source": [
    "sc"
   ]
  },
  {
   "cell_type": "code",
   "execution_count": 0,
   "metadata": {
    "application/vnd.databricks.v1+cell": {
     "cellMetadata": {
      "byteLimit": 2048000,
      "rowLimit": 10000
     },
     "inputWidgets": {},
     "nuid": "48a1266b-a7e7-42ce-8191-3ebe908eed78",
     "showTitle": true,
     "title": "Introduction to Using Apache Spark"
    },
    "collapsed": true
   },
   "outputs": [
    {
     "output_type": "execute_result",
     "data": {
      "text/html": [
       "\n",
       "            <div>\n",
       "                <p><b>SparkSession - hive</b></p>\n",
       "                \n",
       "        <div>\n",
       "            <p><b>SparkContext</b></p>\n",
       "\n",
       "            <p><a href=\"/?o=2653246151587687#setting/sparkui/0724-185245-xhwpbrhw/driver-4935396579416904288\">Spark UI</a></p>\n",
       "\n",
       "            <dl>\n",
       "              <dt>Version</dt>\n",
       "                <dd><code>v3.5.0</code></dd>\n",
       "              <dt>Master</dt>\n",
       "                <dd><code>spark://10.139.64.4:7077</code></dd>\n",
       "              <dt>AppName</dt>\n",
       "                <dd><code>Databricks Shell</code></dd>\n",
       "            </dl>\n",
       "        </div>\n",
       "        \n",
       "            </div>\n",
       "        "
      ],
      "text/plain": [
       "<pyspark.sql.session.SparkSession at 0x7f3ca68b8f40>"
      ]
     },
     "execution_count": 2,
     "metadata": {},
     "output_type": "execute_result"
    }
   ],
   "source": [
    "spark"
   ]
  },
  {
   "cell_type": "markdown",
   "metadata": {
    "application/vnd.databricks.v1+cell": {
     "cellMetadata": {},
     "inputWidgets": {},
     "nuid": "89d6ecb8-faa7-4c10-b61d-5b76cc173bdc",
     "showTitle": false,
     "title": ""
    }
   },
   "source": [
    "#### 1. Create a New Spark Session Instance."
   ]
  },
  {
   "cell_type": "code",
   "execution_count": 0,
   "metadata": {
    "application/vnd.databricks.v1+cell": {
     "cellMetadata": {
      "byteLimit": 2048000,
      "rowLimit": 10000
     },
     "inputWidgets": {},
     "nuid": "ee8a79fc-fbd6-46b3-8701-14c1d0eb9d08",
     "showTitle": true,
     "title": "Creating a Spark Session for Flight Data Analysis"
    }
   },
   "outputs": [],
   "source": [
    "#Spark Session() - \n",
    "from pyspark.sql import SparkSession\n",
    "spark = SparkSession.builder.appName('Flight Data Ana').getOrCreate()"
   ]
  },
  {
   "cell_type": "code",
   "execution_count": 0,
   "metadata": {
    "application/vnd.databricks.v1+cell": {
     "cellMetadata": {
      "byteLimit": 2048000,
      "rowLimit": 10000
     },
     "inputWidgets": {},
     "nuid": "15b45e2c-390d-47fa-9f9c-e13c9ff4c69c",
     "showTitle": false,
     "title": ""
    }
   },
   "outputs": [
    {
     "output_type": "execute_result",
     "data": {
      "text/html": [
       "\n",
       "        <div>\n",
       "            <p><b>SparkContext</b></p>\n",
       "\n",
       "            <p><a href=\"/?o=2653246151587687#setting/sparkui/0724-185245-xhwpbrhw/driver-4935396579416904288\">Spark UI</a></p>\n",
       "\n",
       "            <dl>\n",
       "              <dt>Version</dt>\n",
       "                <dd><code>v3.5.0</code></dd>\n",
       "              <dt>Master</dt>\n",
       "                <dd><code>spark://10.139.64.4:7077</code></dd>\n",
       "              <dt>AppName</dt>\n",
       "                <dd><code>Databricks Shell</code></dd>\n",
       "            </dl>\n",
       "        </div>\n",
       "        "
      ],
      "text/plain": [
       "<SparkContext master=spark://10.139.64.4:7077 appName=Databricks Shell>"
      ]
     },
     "execution_count": 4,
     "metadata": {},
     "output_type": "execute_result"
    }
   ],
   "source": [
    "sc"
   ]
  },
  {
   "cell_type": "code",
   "execution_count": 0,
   "metadata": {
    "application/vnd.databricks.v1+cell": {
     "cellMetadata": {
      "byteLimit": 2048000,
      "rowLimit": 10000
     },
     "inputWidgets": {},
     "nuid": "c770fc85-a0b2-414e-9d2d-2d38f9477c18",
     "showTitle": false,
     "title": ""
    }
   },
   "outputs": [],
   "source": [
    "flights_df = spark.read.csv(\"/Volumes/azuredatabme/default/flights/raw_flight_data.csv\", inferSchema=True, header = True)"
   ]
  },
  {
   "cell_type": "code",
   "execution_count": 0,
   "metadata": {
    "application/vnd.databricks.v1+cell": {
     "cellMetadata": {
      "byteLimit": 2048000,
      "rowLimit": 10000
     },
     "inputWidgets": {},
     "nuid": "aadbb27d-5808-402a-8ee6-c6c0a374febd",
     "showTitle": false,
     "title": ""
    }
   },
   "outputs": [
    {
     "output_type": "execute_result",
     "data": {
      "text/plain": [
       "[Row(DayofMonth=19, DayOfWeek=5, Carrier='DL', OriginAirportID=11433, DestAirportID=13303, DepDelay=-3, ArrDelay=1),\n",
       " Row(DayofMonth=19, DayOfWeek=5, Carrier='DL', OriginAirportID=14869, DestAirportID=12478, DepDelay=0, ArrDelay=-8),\n",
       " Row(DayofMonth=19, DayOfWeek=5, Carrier='DL', OriginAirportID=14057, DestAirportID=14869, DepDelay=-4, ArrDelay=-15),\n",
       " Row(DayofMonth=19, DayOfWeek=5, Carrier='DL', OriginAirportID=15016, DestAirportID=11433, DepDelay=28, ArrDelay=24),\n",
       " Row(DayofMonth=19, DayOfWeek=5, Carrier='DL', OriginAirportID=11193, DestAirportID=12892, DepDelay=-6, ArrDelay=-11)]"
      ]
     },
     "execution_count": 6,
     "metadata": {},
     "output_type": "execute_result"
    }
   ],
   "source": [
    "flights_df.head(5)"
   ]
  },
  {
   "cell_type": "code",
   "execution_count": 0,
   "metadata": {
    "application/vnd.databricks.v1+cell": {
     "cellMetadata": {
      "byteLimit": 2048000,
      "rowLimit": 10000
     },
     "inputWidgets": {},
     "nuid": "e9776b56-f2cc-494c-bebf-99136a89f30a",
     "showTitle": false,
     "title": ""
    }
   },
   "outputs": [
    {
     "output_type": "stream",
     "name": "stdout",
     "output_type": "stream",
     "text": [
      "+----------+---------+-------+---------------+-------------+--------+--------+\n|DayofMonth|DayOfWeek|Carrier|OriginAirportID|DestAirportID|DepDelay|ArrDelay|\n+----------+---------+-------+---------------+-------------+--------+--------+\n|        19|        5|     DL|          11433|        13303|      -3|       1|\n|        19|        5|     DL|          14869|        12478|       0|      -8|\n|        19|        5|     DL|          14057|        14869|      -4|     -15|\n|        19|        5|     DL|          15016|        11433|      28|      24|\n|        19|        5|     DL|          11193|        12892|      -6|     -11|\n+----------+---------+-------+---------------+-------------+--------+--------+\nonly showing top 5 rows\n\n"
     ]
    }
   ],
   "source": [
    "flights_df.show(5)"
   ]
  },
  {
   "cell_type": "markdown",
   "metadata": {
    "application/vnd.databricks.v1+cell": {
     "cellMetadata": {},
     "inputWidgets": {},
     "nuid": "d9533cc8-817b-4476-af82-f0c3ed2b6ad8",
     "showTitle": false,
     "title": ""
    }
   },
   "source": [
    "#### 1.Selecting specific columns"
   ]
  },
  {
   "cell_type": "code",
   "execution_count": 0,
   "metadata": {
    "application/vnd.databricks.v1+cell": {
     "cellMetadata": {
      "byteLimit": 2048000,
      "rowLimit": 10000
     },
     "inputWidgets": {},
     "nuid": "67f3807c-32d0-4dc9-b945-d159b7e57504",
     "showTitle": false,
     "title": ""
    },
    "collapsed": true
   },
   "outputs": [
    {
     "output_type": "stream",
     "name": "stdout",
     "output_type": "stream",
     "text": [
      "+----------+-------+---------------+--------+\n|DayofMonth|Carrier|OriginAirportID|DepDelay|\n+----------+-------+---------------+--------+\n|        19|     DL|          11433|      -3|\n|        19|     DL|          14869|       0|\n|        19|     DL|          14057|      -4|\n|        19|     DL|          15016|      28|\n|        19|     DL|          11193|      -6|\n|        19|     DL|          10397|      -1|\n|        19|     DL|          15016|       0|\n|        19|     DL|          10397|      15|\n|        19|     DL|          10397|      33|\n|        19|     DL|          11278|     323|\n|        19|     DL|          14107|      -7|\n|        19|     DL|          11433|      22|\n|        19|     DL|          11298|      40|\n|        19|     DL|          11433|      -2|\n|        19|     DL|          10397|      71|\n|        19|     DL|          12451|      75|\n|        19|     DL|          12953|      -1|\n|        19|     DL|          11433|      -3|\n|        19|     DL|          10397|      31|\n|        19|     DL|          13204|       8|\n+----------+-------+---------------+--------+\nonly showing top 20 rows\n\n"
     ]
    }
   ],
   "source": [
    "flights_df.select(['DayofMonth','Carrier','OriginAirportID','DepDelay']).show()"
   ]
  },
  {
   "cell_type": "code",
   "execution_count": 0,
   "metadata": {
    "application/vnd.databricks.v1+cell": {
     "cellMetadata": {
      "byteLimit": 2048000,
      "rowLimit": 10000
     },
     "inputWidgets": {},
     "nuid": "8dd5e7a5-3287-4bdd-9db0-d024d99b6401",
     "showTitle": false,
     "title": ""
    }
   },
   "outputs": [
    {
     "output_type": "stream",
     "name": "stdout",
     "output_type": "stream",
     "text": [
      "+-------+\n|Carrier|\n+-------+\n|     UA|\n|     AA|\n|     EV|\n|     B6|\n|     DL|\n|     OO|\n|     F9|\n|     YV|\n|     US|\n|     MQ|\n|     HA|\n|     AS|\n|     FL|\n|     VX|\n|     WN|\n|     9E|\n+-------+\n\n"
     ]
    }
   ],
   "source": [
    "flights_df.select(['Carrier']).distinct().show()"
   ]
  },
  {
   "cell_type": "markdown",
   "metadata": {
    "application/vnd.databricks.v1+cell": {
     "cellMetadata": {},
     "inputWidgets": {},
     "nuid": "057b2ae4-b837-4fed-9c80-7e8c3e757e6a",
     "showTitle": false,
     "title": ""
    }
   },
   "source": [
    "#### 2. count()"
   ]
  },
  {
   "cell_type": "code",
   "execution_count": 0,
   "metadata": {
    "application/vnd.databricks.v1+cell": {
     "cellMetadata": {
      "byteLimit": 2048000,
      "rowLimit": 10000
     },
     "inputWidgets": {},
     "nuid": "75793110-23f8-45f0-971e-06db8e8051c0",
     "showTitle": false,
     "title": ""
    }
   },
   "outputs": [
    {
     "output_type": "execute_result",
     "data": {
      "text/plain": [
       "16"
      ]
     },
     "execution_count": 10,
     "metadata": {},
     "output_type": "execute_result"
    }
   ],
   "source": [
    "flights_df.select(['Carrier']).distinct().count()"
   ]
  },
  {
   "cell_type": "markdown",
   "metadata": {
    "application/vnd.databricks.v1+cell": {
     "cellMetadata": {},
     "inputWidgets": {},
     "nuid": "4ab08183-b376-4982-986b-2c970c2949ef",
     "showTitle": false,
     "title": ""
    }
   },
   "source": [
    "#### 3. where() \n"
   ]
  },
  {
   "cell_type": "code",
   "execution_count": 0,
   "metadata": {
    "application/vnd.databricks.v1+cell": {
     "cellMetadata": {
      "byteLimit": 2048000,
      "rowLimit": 10000
     },
     "inputWidgets": {},
     "nuid": "3af8cf38-583e-42c0-8108-cdf6a8695fe5",
     "showTitle": false,
     "title": ""
    },
    "collapsed": true
   },
   "outputs": [
    {
     "output_type": "stream",
     "name": "stdout",
     "output_type": "stream",
     "text": [
      "+----------+---------+-------+---------------+-------------+--------+--------+\n|DayofMonth|DayOfWeek|Carrier|OriginAirportID|DestAirportID|DepDelay|ArrDelay|\n+----------+---------+-------+---------------+-------------+--------+--------+\n|        19|        5|     DL|          15016|        11433|      28|      24|\n|        19|        5|     DL|          10397|        14869|      15|      24|\n|        19|        5|     DL|          10397|        10423|      33|      34|\n|        19|        5|     DL|          11278|        10397|     323|     322|\n|        19|        5|     DL|          11433|        11298|      22|      41|\n|        19|        5|     DL|          11298|        11433|      40|      20|\n|        19|        5|     DL|          10397|        12451|      71|      75|\n|        19|        5|     DL|          12451|        10397|      75|      57|\n|        19|        5|     DL|          10397|        14771|      31|      38|\n|        19|        5|     DL|          13204|        10397|       8|      25|\n|        19|        5|     DL|          12889|        13487|       7|      16|\n|        19|        5|     DL|          14027|        10397|      13|      25|\n|        19|        5|     DL|          13244|        10397|       4|      13|\n|        19|        5|     DL|          10397|        12892|      15|       7|\n|        19|        5|     DL|          14747|        14869|      15|      18|\n|        19|        5|     DL|          10423|        10397|      56|      49|\n|        20|        6|     DL|          10397|        11278|       2|       1|\n|        20|        6|     DL|          11278|        10397|      34|      38|\n|        20|        6|     DL|          11697|        12953|      20|       1|\n|        20|        6|     DL|          13487|        13198|      35|      26|\n+----------+---------+-------+---------------+-------------+--------+--------+\nonly showing top 20 rows\n\n"
     ]
    }
   ],
   "source": [
    "flights_df.where((flights_df.DepDelay > 0) & (flights_df.ArrDelay > 0)).show()"
   ]
  },
  {
   "cell_type": "markdown",
   "metadata": {
    "application/vnd.databricks.v1+cell": {
     "cellMetadata": {},
     "inputWidgets": {},
     "nuid": "2c7e4fe9-4d2a-4ded-ac9d-8bf9ae8f410c",
     "showTitle": false,
     "title": ""
    }
   },
   "source": [
    "#### 4. Filter()"
   ]
  },
  {
   "cell_type": "code",
   "execution_count": 0,
   "metadata": {
    "application/vnd.databricks.v1+cell": {
     "cellMetadata": {
      "byteLimit": 2048000,
      "rowLimit": 10000
     },
     "inputWidgets": {},
     "nuid": "66caab7b-971b-4487-9c41-0b817c7decd1",
     "showTitle": false,
     "title": ""
    },
    "collapsed": true
   },
   "outputs": [
    {
     "output_type": "stream",
     "name": "stdout",
     "output_type": "stream",
     "text": [
      "+----------+---------+-------+---------------+-------------+--------+--------+\n|DayofMonth|DayOfWeek|Carrier|OriginAirportID|DestAirportID|DepDelay|ArrDelay|\n+----------+---------+-------+---------------+-------------+--------+--------+\n|        19|        5|     DL|          15016|        11433|      28|      24|\n|        19|        5|     DL|          10397|        14869|      15|      24|\n|        19|        5|     DL|          10397|        10423|      33|      34|\n|        19|        5|     DL|          11278|        10397|     323|     322|\n|        19|        5|     DL|          11433|        11298|      22|      41|\n|        19|        5|     DL|          11298|        11433|      40|      20|\n|        19|        5|     DL|          10397|        12451|      71|      75|\n|        19|        5|     DL|          12451|        10397|      75|      57|\n|        19|        5|     DL|          10397|        14771|      31|      38|\n|        19|        5|     DL|          13204|        10397|       8|      25|\n|        19|        5|     DL|          12889|        13487|       7|      16|\n|        19|        5|     DL|          14027|        10397|      13|      25|\n|        19|        5|     DL|          13244|        10397|       4|      13|\n|        19|        5|     DL|          10397|        12892|      15|       7|\n|        19|        5|     DL|          14747|        14869|      15|      18|\n|        19|        5|     DL|          10423|        10397|      56|      49|\n|        20|        6|     DL|          10397|        11278|       2|       1|\n|        20|        6|     DL|          11278|        10397|      34|      38|\n|        20|        6|     DL|          11697|        12953|      20|       1|\n|        20|        6|     DL|          13487|        13198|      35|      26|\n+----------+---------+-------+---------------+-------------+--------+--------+\nonly showing top 20 rows\n\n"
     ]
    }
   ],
   "source": [
    "flights_df.filter((flights_df.DepDelay > 0) & (flights_df.ArrDelay > 0)).show()"
   ]
  },
  {
   "cell_type": "markdown",
   "metadata": {
    "application/vnd.databricks.v1+cell": {
     "cellMetadata": {},
     "inputWidgets": {},
     "nuid": "d61f6050-97c6-4542-8285-528c88f0106c",
     "showTitle": false,
     "title": ""
    }
   },
   "source": [
    "#### 5. isin()\n",
    "    "
   ]
  },
  {
   "cell_type": "code",
   "execution_count": 0,
   "metadata": {
    "application/vnd.databricks.v1+cell": {
     "cellMetadata": {
      "byteLimit": 2048000,
      "rowLimit": 10000
     },
     "inputWidgets": {},
     "nuid": "a4a86875-38bc-4574-939e-14bf77aadc9a",
     "showTitle": false,
     "title": ""
    }
   },
   "outputs": [
    {
     "output_type": "stream",
     "name": "stdout",
     "output_type": "stream",
     "text": [
      "+----------+---------+-------+---------------+-------------+--------+--------+\n|DayofMonth|DayOfWeek|Carrier|OriginAirportID|DestAirportID|DepDelay|ArrDelay|\n+----------+---------+-------+---------------+-------------+--------+--------+\n|        19|        5|     DL|          11433|        13303|      -3|       1|\n|        19|        5|     DL|          14869|        12478|       0|      -8|\n|        19|        5|     DL|          14057|        14869|      -4|     -15|\n|        19|        5|     DL|          15016|        11433|      28|      24|\n|        19|        5|     DL|          11193|        12892|      -6|     -11|\n|        19|        5|     DL|          10397|        15016|      -1|     -19|\n|        19|        5|     DL|          15016|        10397|       0|      -1|\n|        19|        5|     DL|          10397|        14869|      15|      24|\n|        19|        5|     DL|          10397|        10423|      33|      34|\n|        19|        5|     DL|          11278|        10397|     323|     322|\n|        19|        5|     DL|          14107|        13487|      -7|     -13|\n|        19|        5|     DL|          11433|        11298|      22|      41|\n|        19|        5|     DL|          11298|        11433|      40|      20|\n|        19|        5|     DL|          11433|        12892|      -2|      -7|\n|        19|        5|     DL|          10397|        12451|      71|      75|\n|        19|        5|     DL|          12451|        10397|      75|      57|\n|        19|        5|     DL|          12953|        10397|      -1|      10|\n|        19|        5|     DL|          11433|        12953|      -3|     -10|\n|        19|        5|     DL|          10397|        14771|      31|      38|\n|        19|        5|     DL|          13204|        10397|       8|      25|\n+----------+---------+-------+---------------+-------------+--------+--------+\nonly showing top 20 rows\n\n"
     ]
    }
   ],
   "source": [
    "flights_df.where(flights_df.Carrier.isin('DL','B6','UA')).show()"
   ]
  },
  {
   "cell_type": "code",
   "execution_count": 0,
   "metadata": {
    "application/vnd.databricks.v1+cell": {
     "cellMetadata": {
      "byteLimit": 2048000,
      "rowLimit": 10000
     },
     "inputWidgets": {},
     "nuid": "f75f8a25-3e58-4353-8e29-21431b9da524",
     "showTitle": false,
     "title": ""
    }
   },
   "outputs": [],
   "source": [
    "airports_df = spark.read.csv(\"/Volumes/azuredatabme/default/flights/airports.csv\", header = True,\n",
    "                            inferSchema=True)"
   ]
  },
  {
   "cell_type": "markdown",
   "metadata": {
    "application/vnd.databricks.v1+cell": {
     "cellMetadata": {},
     "inputWidgets": {},
     "nuid": "6e7da47e-5a0a-4f5d-ac6e-c43ea9856d08",
     "showTitle": false,
     "title": ""
    }
   },
   "source": [
    "#### 7. printSchema() "
   ]
  },
  {
   "cell_type": "code",
   "execution_count": 0,
   "metadata": {
    "application/vnd.databricks.v1+cell": {
     "cellMetadata": {
      "byteLimit": 2048000,
      "rowLimit": 10000
     },
     "inputWidgets": {},
     "nuid": "370d4e2b-a4af-44cd-9911-b2bd11d9c470",
     "showTitle": false,
     "title": ""
    }
   },
   "outputs": [
    {
     "output_type": "stream",
     "name": "stdout",
     "output_type": "stream",
     "text": [
      "root\n |-- airport_id: integer (nullable = true)\n |-- city: string (nullable = true)\n |-- state: string (nullable = true)\n |-- name: string (nullable = true)\n\n"
     ]
    }
   ],
   "source": [
    "airports_df.printSchema()"
   ]
  },
  {
   "cell_type": "code",
   "execution_count": 0,
   "metadata": {
    "application/vnd.databricks.v1+cell": {
     "cellMetadata": {
      "byteLimit": 2048000,
      "rowLimit": 10000
     },
     "inputWidgets": {},
     "nuid": "3dc7dc6c-2185-4326-a455-b393435f695e",
     "showTitle": false,
     "title": ""
    }
   },
   "outputs": [
    {
     "output_type": "stream",
     "name": "stdout",
     "output_type": "stream",
     "text": [
      "+----------+-----------+-----+--------------------+\n|airport_id|       city|state|                name|\n+----------+-----------+-----+--------------------+\n|     10165|Adak Island|   AK|                Adak|\n|     10299|  Anchorage|   AK|Ted Stevens Ancho...|\n|     10304|      Aniak|   AK|       Aniak Airport|\n|     10754|     Barrow|   AK|Wiley Post/Will R...|\n|     10551|     Bethel|   AK|      Bethel Airport|\n|     10926|    Cordova|   AK|Merle K Mudhole S...|\n|     14709|  Deadhorse|   AK|   Deadhorse Airport|\n|     11336| Dillingham|   AK|  Dillingham Airport|\n|     11630|  Fairbanks|   AK|Fairbanks Interna...|\n|     11997|   Gustavus|   AK|    Gustavus Airport|\n+----------+-----------+-----+--------------------+\nonly showing top 10 rows\n\n"
     ]
    }
   ],
   "source": [
    "airports_df.show(10)"
   ]
  },
  {
   "cell_type": "markdown",
   "metadata": {
    "application/vnd.databricks.v1+cell": {
     "cellMetadata": {},
     "inputWidgets": {},
     "nuid": "5c94c193-272e-47e8-8509-c359304aa4d2",
     "showTitle": false,
     "title": ""
    }
   },
   "source": [
    "#### 8. Join Method()\n",
    "    "
   ]
  },
  {
   "cell_type": "code",
   "execution_count": 0,
   "metadata": {
    "application/vnd.databricks.v1+cell": {
     "cellMetadata": {
      "byteLimit": 2048000,
      "rowLimit": 10000
     },
     "inputWidgets": {},
     "nuid": "9b475025-b4c8-4de3-b3e7-1e3f3486bf94",
     "showTitle": false,
     "title": ""
    },
    "collapsed": true
   },
   "outputs": [
    {
     "output_type": "stream",
     "name": "stdout",
     "output_type": "stream",
     "text": [
      "+----------+---------+-------+---------------+-------------+--------+--------+----------+-----------------+-----+--------------------+\n|DayofMonth|DayOfWeek|Carrier|OriginAirportID|DestAirportID|DepDelay|ArrDelay|airport_id|             city|state|                name|\n+----------+---------+-------+---------------+-------------+--------+--------+----------+-----------------+-----+--------------------+\n|        19|        5|     DL|          11433|        13303|      -3|       1|     11433|          Detroit|   MI|Detroit Metro Way...|\n|        19|        5|     DL|          14869|        12478|       0|      -8|     14869|   Salt Lake City|   UT|Salt Lake City In...|\n|        19|        5|     DL|          14057|        14869|      -4|     -15|     14057|         Portland|   OR|Portland Internat...|\n|        19|        5|     DL|          15016|        11433|      28|      24|     15016|        St. Louis|   MO|Lambert-St. Louis...|\n|        19|        5|     DL|          11193|        12892|      -6|     -11|     11193|       Cincinnati|   OH|Cincinnati/Northe...|\n|        19|        5|     DL|          10397|        15016|      -1|     -19|     10397|          Atlanta|   GA|Hartsfield-Jackso...|\n|        19|        5|     DL|          15016|        10397|       0|      -1|     15016|        St. Louis|   MO|Lambert-St. Louis...|\n|        19|        5|     DL|          10397|        14869|      15|      24|     10397|          Atlanta|   GA|Hartsfield-Jackso...|\n|        19|        5|     DL|          10397|        10423|      33|      34|     10397|          Atlanta|   GA|Hartsfield-Jackso...|\n|        19|        5|     DL|          11278|        10397|     323|     322|     11278|       Washington|   DC|Ronald Reagan Was...|\n|        19|        5|     DL|          14107|        13487|      -7|     -13|     14107|          Phoenix|   AZ|Phoenix Sky Harbo...|\n|        19|        5|     DL|          11433|        11298|      22|      41|     11433|          Detroit|   MI|Detroit Metro Way...|\n|        19|        5|     DL|          11298|        11433|      40|      20|     11298|Dallas/Fort Worth|   TX|Dallas/Fort Worth...|\n|        19|        5|     DL|          11433|        12892|      -2|      -7|     11433|          Detroit|   MI|Detroit Metro Way...|\n|        19|        5|     DL|          10397|        12451|      71|      75|     10397|          Atlanta|   GA|Hartsfield-Jackso...|\n|        19|        5|     DL|          12451|        10397|      75|      57|     12451|     Jacksonville|   FL|Jacksonville Inte...|\n|        19|        5|     DL|          12953|        10397|      -1|      10|     12953|         New York|   NY|           LaGuardia|\n|        19|        5|     DL|          11433|        12953|      -3|     -10|     11433|          Detroit|   MI|Detroit Metro Way...|\n|        19|        5|     DL|          10397|        14771|      31|      38|     10397|          Atlanta|   GA|Hartsfield-Jackso...|\n|        19|        5|     DL|          13204|        10397|       8|      25|     13204|          Orlando|   FL|Orlando Internati...|\n+----------+---------+-------+---------------+-------------+--------+--------+----------+-----------------+-----+--------------------+\nonly showing top 20 rows\n\n"
     ]
    }
   ],
   "source": [
    "flight_airportDF = flights_df.join(airports_df, flights_df.OriginAirportID == airports_df.airport_id)\n",
    "flight_airportDF.show()"
   ]
  },
  {
   "cell_type": "code",
   "execution_count": 0,
   "metadata": {
    "application/vnd.databricks.v1+cell": {
     "cellMetadata": {
      "byteLimit": 2048000,
      "rowLimit": 10000
     },
     "inputWidgets": {},
     "nuid": "91519c4f-6874-4f01-9116-9940dd60f0ec",
     "showTitle": false,
     "title": ""
    },
    "collapsed": true
   },
   "outputs": [
    {
     "output_type": "stream",
     "name": "stdout",
     "output_type": "stream",
     "text": [
      "+----------+---------+-------+---------------+-------------+--------+--------+----------+--------------------+\n|DayofMonth|DayOfWeek|Carrier|OriginAirportID|DestAirportID|DepDelay|ArrDelay|airport_id|                name|\n+----------+---------+-------+---------------+-------------+--------+--------+----------+--------------------+\n|        19|        5|     DL|          11433|        13303|      -3|       1|     11433|Detroit Metro Way...|\n|        19|        5|     DL|          14869|        12478|       0|      -8|     14869|Salt Lake City In...|\n|        19|        5|     DL|          14057|        14869|      -4|     -15|     14057|Portland Internat...|\n|        19|        5|     DL|          15016|        11433|      28|      24|     15016|Lambert-St. Louis...|\n|        19|        5|     DL|          11193|        12892|      -6|     -11|     11193|Cincinnati/Northe...|\n|        19|        5|     DL|          10397|        15016|      -1|     -19|     10397|Hartsfield-Jackso...|\n|        19|        5|     DL|          15016|        10397|       0|      -1|     15016|Lambert-St. Louis...|\n|        19|        5|     DL|          10397|        14869|      15|      24|     10397|Hartsfield-Jackso...|\n|        19|        5|     DL|          10397|        10423|      33|      34|     10397|Hartsfield-Jackso...|\n|        19|        5|     DL|          11278|        10397|     323|     322|     11278|Ronald Reagan Was...|\n|        19|        5|     DL|          14107|        13487|      -7|     -13|     14107|Phoenix Sky Harbo...|\n|        19|        5|     DL|          11433|        11298|      22|      41|     11433|Detroit Metro Way...|\n|        19|        5|     DL|          11298|        11433|      40|      20|     11298|Dallas/Fort Worth...|\n|        19|        5|     DL|          11433|        12892|      -2|      -7|     11433|Detroit Metro Way...|\n|        19|        5|     DL|          10397|        12451|      71|      75|     10397|Hartsfield-Jackso...|\n|        19|        5|     DL|          12451|        10397|      75|      57|     12451|Jacksonville Inte...|\n|        19|        5|     DL|          12953|        10397|      -1|      10|     12953|           LaGuardia|\n|        19|        5|     DL|          11433|        12953|      -3|     -10|     11433|Detroit Metro Way...|\n|        19|        5|     DL|          10397|        14771|      31|      38|     10397|Hartsfield-Jackso...|\n|        19|        5|     DL|          13204|        10397|       8|      25|     13204|Orlando Internati...|\n+----------+---------+-------+---------------+-------------+--------+--------+----------+--------------------+\nonly showing top 20 rows\n\n"
     ]
    }
   ],
   "source": [
    "flights_df.join(airports_df.select(['airport_id','name']), flights_df.OriginAirportID == airports_df.airport_id).show()"
   ]
  },
  {
   "cell_type": "code",
   "execution_count": 0,
   "metadata": {
    "application/vnd.databricks.v1+cell": {
     "cellMetadata": {
      "byteLimit": 2048000,
      "rowLimit": 10000
     },
     "inputWidgets": {},
     "nuid": "510c3686-72f0-4ce3-9be7-8afbb118fc2f",
     "showTitle": false,
     "title": ""
    },
    "collapsed": true
   },
   "outputs": [
    {
     "output_type": "execute_result",
     "data": {
      "text/plain": [
       "['DayofMonth',\n",
       " 'DayOfWeek',\n",
       " 'Carrier',\n",
       " 'OriginAirportID',\n",
       " 'DestAirportID',\n",
       " 'DepDelay',\n",
       " 'ArrDelay',\n",
       " 'airport_id',\n",
       " 'city',\n",
       " 'state',\n",
       " 'name']"
      ]
     },
     "execution_count": 20,
     "metadata": {},
     "output_type": "execute_result"
    }
   ],
   "source": [
    "flight_airportDF.columns"
   ]
  },
  {
   "cell_type": "markdown",
   "metadata": {
    "application/vnd.databricks.v1+cell": {
     "cellMetadata": {},
     "inputWidgets": {},
     "nuid": "69c28ce8-d5ea-4d5d-8d51-de5cf4cc7b36",
     "showTitle": false,
     "title": ""
    }
   },
   "source": [
    "#### isnull()"
   ]
  },
  {
   "cell_type": "code",
   "execution_count": 0,
   "metadata": {
    "application/vnd.databricks.v1+cell": {
     "cellMetadata": {
      "byteLimit": 2048000,
      "rowLimit": 10000
     },
     "inputWidgets": {},
     "nuid": "dac10b2e-0455-4ea2-9db3-54854471db33",
     "showTitle": false,
     "title": ""
    }
   },
   "outputs": [
    {
     "output_type": "stream",
     "name": "stdout",
     "output_type": "stream",
     "text": [
      "+----------+---------+-------+---------------+-------------+--------+--------+\n|DayofMonth|DayOfWeek|Carrier|OriginAirportID|DestAirportID|DepDelay|ArrDelay|\n+----------+---------+-------+---------------+-------------+--------+--------+\n|         0|        0|      0|              0|            0|   27444|   29033|\n+----------+---------+-------+---------------+-------------+--------+--------+\n\n"
     ]
    }
   ],
   "source": [
    "from pyspark.sql.functions import *\n",
    "\n",
    "flights_df.select([count(when(isnull(col), col)).alias(col) for col in flights_df.columns]).show()"
   ]
  },
  {
   "cell_type": "markdown",
   "metadata": {
    "application/vnd.databricks.v1+cell": {
     "cellMetadata": {},
     "inputWidgets": {},
     "nuid": "fe30a9dd-0057-4644-ba96-87d77a84e8d9",
     "showTitle": false,
     "title": ""
    }
   },
   "source": [
    "#### Drop Duplicates()\n",
    "    "
   ]
  },
  {
   "cell_type": "code",
   "execution_count": 0,
   "metadata": {
    "application/vnd.databricks.v1+cell": {
     "cellMetadata": {
      "byteLimit": 2048000,
      "rowLimit": 10000
     },
     "inputWidgets": {},
     "nuid": "03dea4b2-26b9-4042-93cd-f7c776cd93fd",
     "showTitle": false,
     "title": ""
    }
   },
   "outputs": [],
   "source": [
    "flights_df1 = flights_df.dropDuplicates()"
   ]
  },
  {
   "cell_type": "code",
   "execution_count": 0,
   "metadata": {
    "application/vnd.databricks.v1+cell": {
     "cellMetadata": {
      "byteLimit": 2048000,
      "rowLimit": 10000
     },
     "inputWidgets": {},
     "nuid": "8202bb73-209b-488c-ae87-ae000106b2aa",
     "showTitle": false,
     "title": ""
    }
   },
   "outputs": [
    {
     "output_type": "execute_result",
     "data": {
      "text/plain": [
       "2696983"
      ]
     },
     "execution_count": 23,
     "metadata": {},
     "output_type": "execute_result"
    }
   ],
   "source": [
    "flights_df1.count()"
   ]
  },
  {
   "cell_type": "code",
   "execution_count": 0,
   "metadata": {
    "application/vnd.databricks.v1+cell": {
     "cellMetadata": {
      "byteLimit": 2048000,
      "rowLimit": 10000
     },
     "inputWidgets": {},
     "nuid": "41817437-6394-47ba-a962-56d586501958",
     "showTitle": false,
     "title": ""
    }
   },
   "outputs": [
    {
     "output_type": "execute_result",
     "data": {
      "text/plain": [
       "2719418"
      ]
     },
     "execution_count": 24,
     "metadata": {},
     "output_type": "execute_result"
    }
   ],
   "source": [
    "flights_df.count()"
   ]
  },
  {
   "cell_type": "markdown",
   "metadata": {
    "application/vnd.databricks.v1+cell": {
     "cellMetadata": {},
     "inputWidgets": {},
     "nuid": "5c25888f-4178-4ffa-a3e9-172dfb8cd968",
     "showTitle": false,
     "title": ""
    }
   },
   "source": [
    "#### Task1: Percentage Data Lost while applying DropDuplicates()"
   ]
  },
  {
   "cell_type": "code",
   "execution_count": 0,
   "metadata": {
    "application/vnd.databricks.v1+cell": {
     "cellMetadata": {
      "byteLimit": 2048000,
      "rowLimit": 10000
     },
     "inputWidgets": {},
     "nuid": "9d8b65e2-7429-4bb2-9d57-b4cc55aba1df",
     "showTitle": false,
     "title": ""
    }
   },
   "outputs": [
    {
     "output_type": "execute_result",
     "data": {
      "text/plain": [
       "0.8249927006440348"
      ]
     },
     "execution_count": 25,
     "metadata": {},
     "output_type": "execute_result"
    }
   ],
   "source": [
    "(flights_df.count() - flights_df1.count())/flights_df.count() * 100"
   ]
  },
  {
   "cell_type": "code",
   "execution_count": 0,
   "metadata": {
    "application/vnd.databricks.v1+cell": {
     "cellMetadata": {
      "byteLimit": 2048000,
      "rowLimit": 10000
     },
     "inputWidgets": {},
     "nuid": "33f5d992-782e-4424-ac99-3c16fdb23caa",
     "showTitle": false,
     "title": ""
    }
   },
   "outputs": [],
   "source": [
    "def calculate_percetange(df1, df2):\n",
    "    return (df1.count() - df2.count())/df1.count() * 100"
   ]
  },
  {
   "cell_type": "code",
   "execution_count": 0,
   "metadata": {
    "application/vnd.databricks.v1+cell": {
     "cellMetadata": {
      "byteLimit": 2048000,
      "rowLimit": 10000
     },
     "inputWidgets": {},
     "nuid": "91c573ad-f11b-49c0-ae6a-4378245e34b6",
     "showTitle": false,
     "title": ""
    }
   },
   "outputs": [
    {
     "output_type": "execute_result",
     "data": {
      "text/plain": [
       "0.8249927006440348"
      ]
     },
     "execution_count": 27,
     "metadata": {},
     "output_type": "execute_result"
    }
   ],
   "source": [
    "calculate_percetange(flights_df, flights_df1)"
   ]
  },
  {
   "cell_type": "markdown",
   "metadata": {
    "application/vnd.databricks.v1+cell": {
     "cellMetadata": {},
     "inputWidgets": {},
     "nuid": "28877fdd-8840-4443-8683-db622678528d",
     "showTitle": false,
     "title": ""
    }
   },
   "source": [
    "#### 10. fillna()\n",
    "    "
   ]
  },
  {
   "cell_type": "code",
   "execution_count": 0,
   "metadata": {
    "application/vnd.databricks.v1+cell": {
     "cellMetadata": {
      "byteLimit": 2048000,
      "rowLimit": 10000
     },
     "inputWidgets": {},
     "nuid": "56b81b60-3555-4b36-abe9-8723e5d1bfda",
     "showTitle": false,
     "title": ""
    }
   },
   "outputs": [],
   "source": [
    "flights_data = flight_airportDF.dropDuplicates().fillna(0, subset=['DepDelay','ArrDelay'])"
   ]
  },
  {
   "cell_type": "code",
   "execution_count": 0,
   "metadata": {
    "application/vnd.databricks.v1+cell": {
     "cellMetadata": {
      "byteLimit": 2048000,
      "rowLimit": 10000
     },
     "inputWidgets": {},
     "nuid": "d7ed362c-fa2b-4268-880d-68efcc9d2aa6",
     "showTitle": false,
     "title": ""
    }
   },
   "outputs": [
    {
     "output_type": "stream",
     "name": "stdout",
     "output_type": "stream",
     "text": [
      "+----------+---------+-------+---------------+-------------+--------+--------+----------+--------------+-----+--------------------+\n|DayofMonth|DayOfWeek|Carrier|OriginAirportID|DestAirportID|DepDelay|ArrDelay|airport_id|          city|state|                name|\n+----------+---------+-------+---------------+-------------+--------+--------+----------+--------------+-----+--------------------+\n|        18|        4|     DL|          10397|        12953|      16|      -9|     10397|       Atlanta|   GA|Hartsfield-Jackso...|\n|        19|        5|     DL|          14869|        12892|      -5|     -15|     14869|Salt Lake City|   UT|Salt Lake City In...|\n|        19|        5|     DL|          12889|        13487|     100|      97|     12889|     Las Vegas|   NV|McCarran Internat...|\n|        19|        5|     DL|          12892|        10693|      -2|     -13|     12892|   Los Angeles|   CA|Los Angeles Inter...|\n|        19|        5|     DL|          15304|        10397|       1|     -15|     15304|         Tampa|   FL| Tampa International|\n|        19|        5|     DL|          10397|        15304|      15|      13|     10397|       Atlanta|   GA|Hartsfield-Jackso...|\n|        20|        6|     DL|          10721|        11433|       0|     -11|     10721|        Boston|   MA| Logan International|\n|        20|        6|     DL|          10397|        14122|      -5|     -14|     10397|       Atlanta|   GA|Hartsfield-Jackso...|\n|        16|        2|     DL|          10397|        14730|       1|     -14|     10397|       Atlanta|   GA|Hartsfield-Jackso...|\n|        16|        2|     DL|          13487|        13342|      -7|     -26|     13487|   Minneapolis|   MN|Minneapolis-St Pa...|\n|        16|        2|     DL|          14683|        10397|      -1|     -11|     14683|   San Antonio|   TX|San Antonio Inter...|\n|        16|        2|     DL|          10397|        11057|      -3|     -19|     10397|       Atlanta|   GA|Hartsfield-Jackso...|\n|        16|        2|     DL|          11433|        14869|      -4|       7|     11433|       Detroit|   MI|Detroit Metro Way...|\n|        18|        4|     DL|          11193|        10397|      -5|     -16|     11193|    Cincinnati|   OH|Cincinnati/Northe...|\n|        20|        6|     DL|          15304|        10397|      -1|     -16|     15304|         Tampa|   FL| Tampa International|\n|        20|        6|     DL|          14869|        14107|      -1|     -13|     14869|Salt Lake City|   UT|Salt Lake City In...|\n|        20|        6|     DL|          10397|        15016|      -3|      -9|     10397|       Atlanta|   GA|Hartsfield-Jackso...|\n|        20|        6|     DL|          10397|        15304|      -4|       1|     10397|       Atlanta|   GA|Hartsfield-Jackso...|\n|        21|        7|     DL|          14771|        12478|      -6|     -21|     14771| San Francisco|   CA|San Francisco Int...|\n|        21|        7|     DL|          11618|        10397|       4|      -2|     11618|        Newark|   NJ|Newark Liberty In...|\n+----------+---------+-------+---------------+-------------+--------+--------+----------+--------------+-----+--------------------+\nonly showing top 20 rows\n\n"
     ]
    }
   ],
   "source": [
    "flights_data.show()"
   ]
  },
  {
   "cell_type": "code",
   "execution_count": 0,
   "metadata": {
    "application/vnd.databricks.v1+cell": {
     "cellMetadata": {
      "byteLimit": 2048000,
      "rowLimit": 10000
     },
     "inputWidgets": {},
     "nuid": "17487764-0f17-4cd1-a6f3-3524549b60c1",
     "showTitle": false,
     "title": ""
    }
   },
   "outputs": [
    {
     "output_type": "stream",
     "name": "stdout",
     "output_type": "stream",
     "text": [
      "+----+\n|mean|\n+----+\n|11.0|\n+----+\n\n"
     ]
    }
   ],
   "source": [
    "flights_data.select(round(mean(col('DepDelay'))).alias('mean')).show()"
   ]
  },
  {
   "cell_type": "code",
   "execution_count": 0,
   "metadata": {
    "application/vnd.databricks.v1+cell": {
     "cellMetadata": {
      "byteLimit": 2048000,
      "rowLimit": 10000
     },
     "inputWidgets": {},
     "nuid": "07fa1c20-cc80-4a67-bea5-9f3df0cbcd40",
     "showTitle": false,
     "title": ""
    }
   },
   "outputs": [
    {
     "output_type": "stream",
     "name": "stdout",
     "output_type": "stream",
     "text": [
      "+-------+\n|std_dev|\n+-------+\n|   36.0|\n+-------+\n\n"
     ]
    }
   ],
   "source": [
    "from pyspark.sql.functions import stddev, col\n",
    "\n",
    "flights_data.select(round(stddev(col('DepDelay'))).alias('std_dev')).show()"
   ]
  },
  {
   "cell_type": "code",
   "execution_count": 0,
   "metadata": {
    "application/vnd.databricks.v1+cell": {
     "cellMetadata": {
      "byteLimit": 2048000,
      "rowLimit": 10000
     },
     "inputWidgets": {},
     "nuid": "40a2f1d6-282a-4694-b34f-77d34ac51a19",
     "showTitle": false,
     "title": ""
    }
   },
   "outputs": [
    {
     "output_type": "execute_result",
     "data": {
      "text/plain": [
       "11.0"
      ]
     },
     "execution_count": 39,
     "metadata": {},
     "output_type": "execute_result"
    }
   ],
   "source": [
    "flights_data.select(round(mean(col('DepDelay'))).alias('mean')).collect()[0][0]"
   ]
  },
  {
   "cell_type": "markdown",
   "metadata": {
    "application/vnd.databricks.v1+cell": {
     "cellMetadata": {},
     "inputWidgets": {},
     "nuid": "b4f686bc-96ce-42bb-9e68-5d63954a7205",
     "showTitle": false,
     "title": ""
    }
   },
   "source": [
    "#### 11. groupBy() and agg()"
   ]
  },
  {
   "cell_type": "code",
   "execution_count": 0,
   "metadata": {
    "application/vnd.databricks.v1+cell": {
     "cellMetadata": {},
     "inputWidgets": {},
     "nuid": "044a1b7a-1c11-4907-9fd0-a4c5a44dbe9a",
     "showTitle": false,
     "title": ""
    }
   },
   "outputs": [
    {
     "output_type": "execute_result",
     "data": {
      "text/plain": [
       "<pyspark.sql.group.GroupedData at 0x7ffa14cb60b8>"
      ]
     },
     "execution_count": 76,
     "metadata": {},
     "output_type": "execute_result"
    }
   ],
   "source": [
    "flights_data.groupBy(\"Carrier\")"
   ]
  },
  {
   "cell_type": "code",
   "execution_count": 0,
   "metadata": {
    "application/vnd.databricks.v1+cell": {
     "cellMetadata": {
      "byteLimit": 2048000,
      "rowLimit": 10000
     },
     "inputWidgets": {},
     "nuid": "5f4588f1-832a-4c4e-99bf-017e59c5f0c1",
     "showTitle": false,
     "title": ""
    }
   },
   "outputs": [
    {
     "output_type": "stream",
     "name": "stdout",
     "output_type": "stream",
     "text": [
      "+-------+------------------+\n|Carrier|         Avg Delay|\n+-------+------------------+\n|     UA| 12.56328450054194|\n|     AA|12.047073483091621|\n|     EV|14.201382793318832|\n|     B6| 12.62300717948718|\n|     DL|  7.44057536536854|\n|     OO| 7.852680109497053|\n|     F9|12.124132527423326|\n|     YV| 9.400170648464163|\n|     US| 4.982146766542894|\n|     MQ|15.197729076913472|\n|     HA|1.5346074380165289|\n|     AS|0.6593429038281979|\n|     FL|10.165958089647582|\n|     VX|14.391637389851985|\n|     WN|12.860663548314177|\n|     9E| 9.546332530604055|\n+-------+------------------+\n\n"
     ]
    }
   ],
   "source": [
    "flights_data.groupBy(\"Carrier\").agg(mean(\"DepDelay\").alias('Avg Delay')).show()"
   ]
  },
  {
   "cell_type": "markdown",
   "metadata": {
    "application/vnd.databricks.v1+cell": {
     "cellMetadata": {},
     "inputWidgets": {},
     "nuid": "8b97c4b9-cb95-46f0-bcc2-91210689b071",
     "showTitle": false,
     "title": ""
    }
   },
   "source": [
    "#### 12. Calculate Median \n",
    "    * By using approxQuantile(), expr()"
   ]
  },
  {
   "cell_type": "code",
   "execution_count": 0,
   "metadata": {
    "application/vnd.databricks.v1+cell": {
     "cellMetadata": {
      "byteLimit": 2048000,
      "rowLimit": 10000
     },
     "inputWidgets": {},
     "nuid": "b0d6a5e0-e870-454a-8abf-01e189b5e488",
     "showTitle": false,
     "title": ""
    }
   },
   "outputs": [
    {
     "output_type": "execute_result",
     "data": {
      "text/plain": [
       "-3.0"
      ]
     },
     "execution_count": 43,
     "metadata": {},
     "output_type": "execute_result"
    }
   ],
   "source": [
    "flights_data.approxQuantile('ArrDelay', [0.5], 0.001)[0]"
   ]
  },
  {
   "cell_type": "code",
   "execution_count": 0,
   "metadata": {
    "application/vnd.databricks.v1+cell": {
     "cellMetadata": {
      "byteLimit": 2048000,
      "rowLimit": 10000
     },
     "inputWidgets": {},
     "nuid": "1f8622dc-f5ac-469f-8e2d-80afc76a97e3",
     "showTitle": false,
     "title": ""
    }
   },
   "outputs": [
    {
     "output_type": "execute_result",
     "data": {
      "text/plain": [
       "-3"
      ]
     },
     "execution_count": 44,
     "metadata": {},
     "output_type": "execute_result"
    }
   ],
   "source": [
    "from pyspark.sql.functions import expr\n",
    "meadian_expr = expr(f\"percentile_approx({'ArrDelay'}, 0.5)\")\n",
    "\n",
    "flights_data.agg(meadian_expr.alias(\"median\")).collect()[0][0]"
   ]
  },
  {
   "cell_type": "markdown",
   "metadata": {
    "application/vnd.databricks.v1+cell": {
     "cellMetadata": {},
     "inputWidgets": {},
     "nuid": "33e1adf5-21bd-4659-aece-57ffc15519d5",
     "showTitle": false,
     "title": ""
    }
   },
   "source": [
    "#### 13. Spark SQL"
   ]
  },
  {
   "cell_type": "code",
   "execution_count": 0,
   "metadata": {
    "application/vnd.databricks.v1+cell": {
     "cellMetadata": {
      "byteLimit": 2048000,
      "rowLimit": 10000
     },
     "inputWidgets": {},
     "nuid": "4fdc7ae6-a5d3-4eb2-b171-37dc3368e809",
     "showTitle": false,
     "title": ""
    }
   },
   "outputs": [],
   "source": [
    "flights_data.createOrReplaceTempView(\"flights\")   # create a temporary table using spark dataframe."
   ]
  },
  {
   "cell_type": "code",
   "execution_count": 0,
   "metadata": {
    "application/vnd.databricks.v1+cell": {
     "cellMetadata": {
      "byteLimit": 2048000,
      "rowLimit": 10000
     },
     "inputWidgets": {},
     "nuid": "d1fda6e6-29ab-41d2-9227-ad9278743303",
     "showTitle": false,
     "title": ""
    },
    "collapsed": true
   },
   "outputs": [
    {
     "output_type": "stream",
     "name": "stdout",
     "output_type": "stream",
     "text": [
      "+----------+---------+-------+---------------+-------------+--------+--------+----------+--------------+-----+--------------------+\n|DayofMonth|DayOfWeek|Carrier|OriginAirportID|DestAirportID|DepDelay|ArrDelay|airport_id|          city|state|                name|\n+----------+---------+-------+---------------+-------------+--------+--------+----------+--------------+-----+--------------------+\n|        18|        4|     DL|          10397|        12953|      16|      -9|     10397|       Atlanta|   GA|Hartsfield-Jackso...|\n|        19|        5|     DL|          14869|        12892|      -5|     -15|     14869|Salt Lake City|   UT|Salt Lake City In...|\n|        19|        5|     DL|          12889|        13487|     100|      97|     12889|     Las Vegas|   NV|McCarran Internat...|\n|        19|        5|     DL|          12892|        10693|      -2|     -13|     12892|   Los Angeles|   CA|Los Angeles Inter...|\n|        19|        5|     DL|          15304|        10397|       1|     -15|     15304|         Tampa|   FL| Tampa International|\n|        19|        5|     DL|          10397|        15304|      15|      13|     10397|       Atlanta|   GA|Hartsfield-Jackso...|\n|        20|        6|     DL|          10721|        11433|       0|     -11|     10721|        Boston|   MA| Logan International|\n|        20|        6|     DL|          10397|        14122|      -5|     -14|     10397|       Atlanta|   GA|Hartsfield-Jackso...|\n|        16|        2|     DL|          10397|        14730|       1|     -14|     10397|       Atlanta|   GA|Hartsfield-Jackso...|\n|        16|        2|     DL|          13487|        13342|      -7|     -26|     13487|   Minneapolis|   MN|Minneapolis-St Pa...|\n+----------+---------+-------+---------------+-------------+--------+--------+----------+--------------+-----+--------------------+\n\n"
     ]
    }
   ],
   "source": [
    "spark.sql(\"select * from flights limit 10\").show()"
   ]
  },
  {
   "cell_type": "markdown",
   "metadata": {
    "application/vnd.databricks.v1+cell": {
     "cellMetadata": {},
     "inputWidgets": {},
     "nuid": "b696316b-d44b-4126-afd1-6aa43b3fe067",
     "showTitle": false,
     "title": ""
    }
   },
   "source": [
    "1. Show top 10 Airlines with most frequent Flights.\n",
    "\n"
   ]
  },
  {
   "cell_type": "code",
   "execution_count": 0,
   "metadata": {
    "application/vnd.databricks.v1+cell": {
     "cellMetadata": {
      "byteLimit": 2048000,
      "rowLimit": 10000
     },
     "inputWidgets": {},
     "nuid": "f8359975-dd0e-4412-ba2d-21a20a4613fb",
     "showTitle": false,
     "title": ""
    },
    "collapsed": true
   },
   "outputs": [
    {
     "output_type": "stream",
     "name": "stdout",
     "output_type": "stream",
     "text": [
      "+-------+------------+\n|Carrier|Flight_Count|\n+-------+------------+\n|     WN|      575090|\n|     DL|      381601|\n|     AA|      288910|\n|     UA|      286010|\n|     US|      232955|\n|     OO|      159639|\n|     EV|      157218|\n|     B6|      121875|\n|     MQ|      112113|\n|     FL|       92674|\n|     9E|       79728|\n|     AS|       68544|\n|     YV|       52740|\n|     F9|       35736|\n|     VX|       34726|\n|     HA|       17424|\n+-------+------------+\n\n"
     ]
    }
   ],
   "source": [
    "spark.sql(\"select Carrier, count(*) as Flight_Count from flights group by Carrier Order By Flight_Count Desc\").show()"
   ]
  },
  {
   "cell_type": "markdown",
   "metadata": {
    "application/vnd.databricks.v1+cell": {
     "cellMetadata": {},
     "inputWidgets": {},
     "nuid": "bab43518-83af-44cc-8951-f9a10f54b55c",
     "showTitle": false,
     "title": ""
    }
   },
   "source": [
    "##### 2. Query to Compute median DepDelay for each Airlines"
   ]
  },
  {
   "cell_type": "code",
   "execution_count": 0,
   "metadata": {
    "application/vnd.databricks.v1+cell": {
     "cellMetadata": {
      "byteLimit": 2048000,
      "rowLimit": 10000
     },
     "inputWidgets": {},
     "nuid": "587bdc60-ca93-4e51-b37e-70398c3cf39a",
     "showTitle": false,
     "title": ""
    }
   },
   "outputs": [
    {
     "output_type": "stream",
     "name": "stdout",
     "output_type": "stream",
     "text": [
      "+-------+------------+\n|Carrier|median_delay|\n+-------+------------+\n|     UA|          12|\n|     AA|          14|\n|     EV|          24|\n|     B6|          21|\n|     DL|          13|\n|     OO|          17|\n|     F9|          14|\n|     YV|          19|\n|     US|          12|\n|     MQ|          24|\n|     HA|           6|\n|     AS|           9|\n|     FL|          12|\n|     VX|          15|\n|     WN|          12|\n|     9E|          22|\n+-------+------------+\n\n"
     ]
    }
   ],
   "source": [
    "spark.sql(\"select Carrier, percentile_approx(DepDelay, 0.5) as median_delay from flights where DepDelay > 0 group by Carrier\").show()"
   ]
  },
  {
   "cell_type": "code",
   "execution_count": 0,
   "metadata": {
    "application/vnd.databricks.v1+cell": {
     "cellMetadata": {},
     "inputWidgets": {},
     "nuid": "83280682-56da-44da-a902-b88d527942be",
     "showTitle": false,
     "title": ""
    }
   },
   "outputs": [],
   "source": [
    "                                                                                        "
   ]
  }
 ],
 "metadata": {
  "application/vnd.databricks.v1+notebook": {
   "dashboards": [],
   "environmentMetadata": null,
   "language": "python",
   "notebookMetadata": {
    "pythonIndentUnit": 4
   },
   "notebookName": "Flight Data Analysis",
   "widgets": {}
  },
  "kernelspec": {
   "display_name": "Python 3",
   "language": "python",
   "name": "python3"
  },
  "language_info": {
   "codemirror_mode": {
    "name": "ipython",
    "version": 3
   },
   "file_extension": ".py",
   "mimetype": "text/x-python",
   "name": "python",
   "nbconvert_exporter": "python",
   "pygments_lexer": "ipython3",
   "version": "3.6.9"
  }
 },
 "nbformat": 4,
 "nbformat_minor": 0
}
