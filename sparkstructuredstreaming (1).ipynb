{
 "cells": [
  {
   "cell_type": "code",
   "execution_count": 0,
   "metadata": {
    "application/vnd.databricks.v1+cell": {
     "cellMetadata": {},
     "inputWidgets": {},
     "nuid": "2e547f25-667a-47ab-b932-af55d3c83922",
     "showTitle": false,
     "title": ""
    }
   },
   "outputs": [
    {
     "output_type": "display_data",
     "data": {
      "application/vnd.livy.statement-meta+json": {
       "execution_finish_time": "2024-07-18T10:39:37.7899718Z",
       "execution_start_time": "2024-07-18T10:39:37.6206035Z",
       "livy_statement_state": "available",
       "normalized_state": "finished",
       "parent_msg_id": "733f515d-84a8-479f-b6a3-71e76e5bd264",
       "queued_time": "2024-07-18T10:36:17.837486Z",
       "session_id": "3",
       "session_start_time": "2024-07-18T10:36:17.8830245Z",
       "spark_jobs": null,
       "spark_pool": "spark",
       "state": "finished",
       "statement_id": 2,
       "statement_ids": [
        2
       ]
      },
      "text/plain": [
       "StatementMeta(spark, 3, 2, Finished, Available, Finished)"
      ]
     },
     "metadata": {},
     "output_type": "display_data"
    },
    {
     "output_type": "execute_result",
     "data": {
      "text/html": [
       "\n",
       "        <div>\n",
       "            <p><b>SparkContext</b></p>\n",
       "\n",
       "            <p><a href=\"https://web.azuresynapse.net/sparkui/7c94d1bd-5b31-4a04-a8d1-042eda107baf/workspaces/azureworkspaceex/sparkpools/spark/sessions/3/applications/application_1721299056054_0001\">Spark UI</a></p>\n",
       "\n",
       "            <dl>\n",
       "              <dt>Version</dt>\n",
       "                <dd><code>v3.4.1.5.3.20240528.1</code></dd>\n",
       "              <dt>Master</dt>\n",
       "                <dd><code>yarn</code></dd>\n",
       "              <dt>AppName</dt>\n",
       "                <dd><code>Notebook 2_spark_1721298977</code></dd>\n",
       "            </dl>\n",
       "        </div>\n",
       "        "
      ],
      "text/plain": [
       "<SparkContext master=yarn appName=Notebook 2_spark_1721298977>"
      ]
     },
     "execution_count": 5,
     "metadata": {},
     "output_type": "execute_result"
    }
   ],
   "source": [
    "sc\r\n"
   ]
  },
  {
   "cell_type": "code",
   "execution_count": 0,
   "metadata": {
    "application/vnd.databricks.v1+cell": {
     "cellMetadata": {},
     "inputWidgets": {},
     "nuid": "daac05b8-6263-4d68-8abe-df6a77e987be",
     "showTitle": false,
     "title": ""
    },
    "nteract": {
     "transient": {
      "deleting": false
     }
    }
   },
   "outputs": [
    {
     "output_type": "display_data",
     "data": {
      "application/vnd.livy.statement-meta+json": {
       "execution_finish_time": "2024-07-18T12:14:55.8354679Z",
       "execution_start_time": "2024-07-18T12:04:47.3979342Z",
       "livy_statement_state": "cancelled",
       "normalized_state": "cancelled",
       "parent_msg_id": "0881be3b-a309-4e5d-b589-91cb273aac74",
       "queued_time": "2024-07-18T12:04:47.2419319Z",
       "session_id": "3",
       "session_start_time": null,
       "spark_jobs": null,
       "spark_pool": "spark",
       "state": "finished",
       "statement_id": 36,
       "statement_ids": [
        36
       ]
      },
      "text/plain": [
       "StatementMeta(spark, 3, 36, Finished, Cancelled, Cancelled)"
      ]
     },
     "metadata": {},
     "output_type": "display_data"
    },
    {
     "output_type": "stream",
     "name": "stdout",
     "output_type": "stream",
     "text": [
      "['VendorID', 'PickUpTime', 'DropTime', 'PassengerCount', 'TripDistance', 'PickUpLocationID', 'DropLocationID', 'fare_amount', 'total_amount', 'payment_type', 'trip_type']\n"
     ]
    }
   ],
   "source": [
    "from pyspark.sql.functions import *\n",
    "Df=spark.read.parquet(\"abfss://azurefilesystem@azuresnapseaccount.dfs.core.windows.net/synapse/workspaces/azureworkspaceex/warehouse/green_trp_txitbl\")\n",
    "Df.schema\n",
    "fileStreamDf=spark.readStream.schema(Df.schema)\\\n",
    ".parquet(\"abfss://azurefilesystem@azuresnapseaccount.dfs.core.windows.net/synapse/workspaces/azureworkspaceex/warehouse/green_trp_txitbl/\")\n",
    "fileStreamDf.select(\"*\")\n",
    "print(fileStreamDf.columns)\n",
    "fileStreamDf1=fileStreamDf.select('VendorID', 'PickUpTime', 'DropTime', 'PassengerCount', 'TripDistance', 'PickUpLocationID', 'DropLocationID', 'fare_amount', 'total_amount', 'payment_type', 'trip_type')\\\n",
    ".withColumnRenamed(\"fare_amount\",\"Fare_Amount\")\\\n",
    ".withColumnRenamed(\"total_amount\",\"TotalAmount\")\n",
    "query=fileStreamDf1.writeStream.outputMode(\"append\")\\\n",
    ".format(\"json\")\\\n",
    ".option(\"path\",\"abfss://azurefilesystem@azuresnapseaccount.dfs.core.windows.net/output_data1/\")\\\n",
    ".option(\"checkpointlocation\",\"abfss://azurefilesystem@azuresnapseaccount.dfs.core.windows.net/checkpoint1/\")\\\n",
    ".start()\n",
    "query.awaitTermination()\n"
   ]
  },
  {
   "cell_type": "code",
   "execution_count": 0,
   "metadata": {
    "application/vnd.databricks.v1+cell": {
     "cellMetadata": {},
     "inputWidgets": {},
     "nuid": "a463c815-b7d9-4eb1-a2f0-e234b32a75c1",
     "showTitle": false,
     "title": ""
    },
    "nteract": {
     "transient": {
      "deleting": false
     }
    }
   },
   "outputs": [
    {
     "output_type": "display_data",
     "data": {
      "application/vnd.livy.statement-meta+json": {
       "execution_finish_time": "2024-07-18T11:25:07.0850909Z",
       "execution_start_time": "2024-07-18T11:25:06.8916818Z",
       "livy_statement_state": "available",
       "normalized_state": "finished",
       "parent_msg_id": "f8199573-1b56-444f-af4e-ee37f9003503",
       "queued_time": "2024-07-18T11:25:06.7585307Z",
       "session_id": "3",
       "session_start_time": null,
       "spark_jobs": null,
       "spark_pool": "spark",
       "state": "finished",
       "statement_id": 7,
       "statement_ids": [
        7
       ]
      },
      "text/plain": [
       "StatementMeta(spark, 3, 7, Finished, Available, Finished)"
      ]
     },
     "metadata": {},
     "output_type": "display_data"
    },
    {
     "output_type": "execute_result",
     "data": {
      "text/plain": [
       "StructType([StructField('VendorID', IntegerType(), True), StructField('PickUpTime', StringType(), True), StructField('DropTime', StringType(), True), StructField('PassengerCount', IntegerType(), True), StructField('TripDistance', DoubleType(), True), StructField('PickUpLocationID', IntegerType(), True), StructField('DropLocationID', IntegerType(), True), StructField('fare_amount', DoubleType(), True), StructField('total_amount', DoubleType(), True), StructField('payment_type', IntegerType(), True), StructField('trip_type', IntegerType(), True)])"
      ]
     },
     "execution_count": 15,
     "metadata": {},
     "output_type": "execute_result"
    }
   ],
   "source": []
  },
  {
   "cell_type": "code",
   "execution_count": 0,
   "metadata": {
    "application/vnd.databricks.v1+cell": {
     "cellMetadata": {},
     "inputWidgets": {},
     "nuid": "401a9ece-7d90-4021-948b-0583c2e497fb",
     "showTitle": false,
     "title": ""
    },
    "nteract": {
     "transient": {
      "deleting": false
     }
    }
   },
   "outputs": [
    {
     "output_type": "display_data",
     "data": {
      "application/vnd.livy.statement-meta+json": {
       "execution_finish_time": "2024-07-18T11:28:28.6583477Z",
       "execution_start_time": "2024-07-18T11:28:28.1159006Z",
       "livy_statement_state": "available",
       "normalized_state": "finished",
       "parent_msg_id": "55bb18ff-b547-44a3-b65d-89c21ab26b44",
       "queued_time": "2024-07-18T11:28:27.9804782Z",
       "session_id": "3",
       "session_start_time": null,
       "spark_jobs": null,
       "spark_pool": "spark",
       "state": "finished",
       "statement_id": 9,
       "statement_ids": [
        9
       ]
      },
      "text/plain": [
       "StatementMeta(spark, 3, 9, Finished, Available, Finished)"
      ]
     },
     "metadata": {},
     "output_type": "display_data"
    }
   ],
   "source": []
  },
  {
   "cell_type": "code",
   "execution_count": 0,
   "metadata": {
    "application/vnd.databricks.v1+cell": {
     "cellMetadata": {},
     "inputWidgets": {},
     "nuid": "ac7146ae-a0a9-4a0f-91ef-d617c4632cab",
     "showTitle": false,
     "title": ""
    },
    "nteract": {
     "transient": {
      "deleting": false
     }
    }
   },
   "outputs": [
    {
     "output_type": "display_data",
     "data": {
      "application/vnd.livy.statement-meta+json": {
       "execution_finish_time": "2024-07-18T11:42:15.683425Z",
       "execution_start_time": "2024-07-18T11:42:15.5028665Z",
       "livy_statement_state": "available",
       "normalized_state": "finished",
       "parent_msg_id": "6ab5fd11-8f42-4f56-8f5a-6325ae454a8c",
       "queued_time": "2024-07-18T11:42:15.3568988Z",
       "session_id": "3",
       "session_start_time": null,
       "spark_jobs": null,
       "spark_pool": "spark",
       "state": "finished",
       "statement_id": 22,
       "statement_ids": [
        22
       ]
      },
      "text/plain": [
       "StatementMeta(spark, 3, 22, Finished, Available, Finished)"
      ]
     },
     "metadata": {},
     "output_type": "display_data"
    },
    {
     "output_type": "execute_result",
     "data": {
      "text/plain": [
       "DataFrame[VendorID: int, PickUpTime: string, DropTime: string, PassengerCount: int, TripDistance: double, PickUpLocationID: int, DropLocationID: int, fare_amount: double, total_amount: double, payment_type: int, trip_type: int]"
      ]
     },
     "execution_count": 45,
     "metadata": {},
     "output_type": "execute_result"
    }
   ],
   "source": []
  },
  {
   "cell_type": "code",
   "execution_count": 0,
   "metadata": {
    "application/vnd.databricks.v1+cell": {
     "cellMetadata": {},
     "inputWidgets": {},
     "nuid": "106f8573-897d-42c1-9312-3b49fbb2ce7a",
     "showTitle": false,
     "title": ""
    },
    "nteract": {
     "transient": {
      "deleting": false
     }
    }
   },
   "outputs": [
    {
     "output_type": "display_data",
     "data": {
      "application/vnd.livy.statement-meta+json": {
       "execution_finish_time": "2024-07-18T11:42:18.1795793Z",
       "execution_start_time": "2024-07-18T11:42:18.0090408Z",
       "livy_statement_state": "available",
       "normalized_state": "finished",
       "parent_msg_id": "b83b7c1d-b44c-42bf-8194-513619741586",
       "queued_time": "2024-07-18T11:42:17.8775259Z",
       "session_id": "3",
       "session_start_time": null,
       "spark_jobs": null,
       "spark_pool": "spark",
       "state": "finished",
       "statement_id": 23,
       "statement_ids": [
        23
       ]
      },
      "text/plain": [
       "StatementMeta(spark, 3, 23, Finished, Available, Finished)"
      ]
     },
     "metadata": {},
     "output_type": "display_data"
    },
    {
     "output_type": "stream",
     "name": "stdout",
     "output_type": "stream",
     "text": [
      "['VendorID', 'PickUpTime', 'DropTime', 'PassengerCount', 'TripDistance', 'PickUpLocationID', 'DropLocationID', 'fare_amount', 'total_amount', 'payment_type', 'trip_type']\n"
     ]
    }
   ],
   "source": []
  },
  {
   "cell_type": "code",
   "execution_count": 0,
   "metadata": {
    "application/vnd.databricks.v1+cell": {
     "cellMetadata": {},
     "inputWidgets": {},
     "nuid": "3f8542e0-32fa-4273-add6-af91225819d3",
     "showTitle": false,
     "title": ""
    },
    "nteract": {
     "transient": {
      "deleting": false
     }
    }
   },
   "outputs": [
    {
     "output_type": "display_data",
     "data": {
      "application/vnd.livy.statement-meta+json": {
       "execution_finish_time": "2024-07-18T11:44:16.4787111Z",
       "execution_start_time": "2024-07-18T11:44:16.3076912Z",
       "livy_statement_state": "available",
       "normalized_state": "finished",
       "parent_msg_id": "50f3024d-9f6d-420b-af14-80c1a4a2e66d",
       "queued_time": "2024-07-18T11:44:16.1658511Z",
       "session_id": "3",
       "session_start_time": null,
       "spark_jobs": null,
       "spark_pool": "spark",
       "state": "finished",
       "statement_id": 25,
       "statement_ids": [
        25
       ]
      },
      "text/plain": [
       "StatementMeta(spark, 3, 25, Finished, Available, Finished)"
      ]
     },
     "metadata": {},
     "output_type": "display_data"
    }
   ],
   "source": []
  },
  {
   "cell_type": "code",
   "execution_count": 0,
   "metadata": {
    "application/vnd.databricks.v1+cell": {
     "cellMetadata": {},
     "inputWidgets": {},
     "nuid": "2895c68d-6e42-4fad-ab63-29ee0c486a5d",
     "showTitle": false,
     "title": ""
    },
    "nteract": {
     "transient": {
      "deleting": false
     }
    }
   },
   "outputs": [
    {
     "output_type": "display_data",
     "data": {
      "application/vnd.livy.statement-meta+json": {
       "execution_finish_time": "2024-07-18T11:44:39.4127805Z",
       "execution_start_time": "2024-07-18T11:44:38.8094706Z",
       "livy_statement_state": "available",
       "normalized_state": "finished",
       "parent_msg_id": "f2e53870-d50d-4f19-8df8-6723cdc179ab",
       "queued_time": "2024-07-18T11:44:38.6547969Z",
       "session_id": "3",
       "session_start_time": null,
       "spark_jobs": null,
       "spark_pool": "spark",
       "state": "finished",
       "statement_id": 27,
       "statement_ids": [
        27
       ]
      },
      "text/plain": [
       "StatementMeta(spark, 3, 27, Finished, Available, Finished)"
      ]
     },
     "metadata": {},
     "output_type": "display_data"
    }
   ],
   "source": []
  },
  {
   "cell_type": "code",
   "execution_count": 0,
   "metadata": {
    "application/vnd.databricks.v1+cell": {
     "cellMetadata": {},
     "inputWidgets": {},
     "nuid": "2458b11a-17d3-4fad-bdb8-c81e71d79956",
     "showTitle": false,
     "title": ""
    },
    "nteract": {
     "transient": {
      "deleting": false
     }
    }
   },
   "outputs": [
    {
     "output_type": "display_data",
     "data": {
      "application/vnd.livy.statement-meta+json": {
       "execution_finish_time": "2024-07-18T11:46:23.5271298Z",
       "execution_start_time": "2024-07-18T11:44:49.879865Z",
       "livy_statement_state": "cancelled",
       "normalized_state": "cancelled",
       "parent_msg_id": "d181e719-1d0d-4b42-a6cb-7aa4c16a76b9",
       "queued_time": "2024-07-18T11:44:49.7183738Z",
       "session_id": "3",
       "session_start_time": null,
       "spark_jobs": null,
       "spark_pool": "spark",
       "state": "finished",
       "statement_id": 28,
       "statement_ids": [
        28
       ]
      },
      "text/plain": [
       "StatementMeta(spark, 3, 28, Finished, Cancelled, Cancelled)"
      ]
     },
     "metadata": {},
     "output_type": "display_data"
    }
   ],
   "source": []
  },
  {
   "cell_type": "code",
   "execution_count": 0,
   "metadata": {
    "application/vnd.databricks.v1+cell": {
     "cellMetadata": {},
     "inputWidgets": {},
     "nuid": "3aa1cd5e-cef2-4483-922a-28514cfcfbec",
     "showTitle": false,
     "title": ""
    },
    "nteract": {
     "transient": {
      "deleting": false
     }
    }
   },
   "outputs": [
    {
     "output_type": "display_data",
     "data": {
      "application/vnd.livy.statement-meta+json": {
       "execution_finish_time": "2024-07-18T11:54:15.3887506Z",
       "execution_start_time": "2024-07-18T11:54:13.4933374Z",
       "livy_statement_state": "available",
       "normalized_state": "finished",
       "parent_msg_id": "afd551e6-2a98-40f5-922e-b75dc6a18964",
       "queued_time": "2024-07-18T11:54:13.3565831Z",
       "session_id": "3",
       "session_start_time": null,
       "spark_jobs": null,
       "spark_pool": "spark",
       "state": "finished",
       "statement_id": 35,
       "statement_ids": [
        35
       ]
      },
      "text/plain": [
       "StatementMeta(spark, 3, 35, Finished, Available, Finished)"
      ]
     },
     "metadata": {},
     "output_type": "display_data"
    },
    {
     "output_type": "stream",
     "name": "stdout",
     "output_type": "stream",
     "text": [
      "+--------+---------+------------+\n|VendorID|trip_type|payment_type|\n+--------+---------+------------+\n|       2|        2|           2|\n|       1|        2|           4|\n|       1|        1|           1|\n|       2|        1|           4|\n|       1|        1|           3|\n|       2|        2|           1|\n|       2|        2|           4|\n|       1|        2|           2|\n|       1|        1|           2|\n|       1|        2|           3|\n|       2|        2|           3|\n|       2|        1|           2|\n|       1|        1|           4|\n|       2|        1|           1|\n|       1|        2|           1|\n|       2|        1|           3|\n|       1|        1|           5|\n+--------+---------+------------+\n\n"
     ]
    }
   ],
   "source": []
  },
  {
   "cell_type": "code",
   "execution_count": 0,
   "metadata": {
    "application/vnd.databricks.v1+cell": {
     "cellMetadata": {},
     "inputWidgets": {},
     "nuid": "f08f2a9c-76a8-468b-99dd-f1c7360ad105",
     "showTitle": false,
     "title": ""
    },
    "nteract": {
     "transient": {
      "deleting": false
     }
    }
   },
   "outputs": [
    {
     "output_type": "display_data",
     "data": {
      "application/vnd.livy.statement-meta+json": {
       "execution_finish_time": "2024-07-18T12:26:24.9981827Z",
       "execution_start_time": "2024-07-18T12:26:23.8981163Z",
       "livy_statement_state": "available",
       "normalized_state": "finished",
       "parent_msg_id": "046ac25e-16d6-4591-a5d5-44073960cad7",
       "queued_time": "2024-07-18T12:26:23.7657245Z",
       "session_id": "3",
       "session_start_time": null,
       "spark_jobs": null,
       "spark_pool": "spark",
       "state": "finished",
       "statement_id": 42,
       "statement_ids": [
        42
       ]
      },
      "text/plain": [
       "StatementMeta(spark, 3, 42, Finished, Available, Finished)"
      ]
     },
     "metadata": {},
     "output_type": "display_data"
    },
    {
     "output_type": "stream",
     "name": "stdout",
     "output_type": "stream",
     "text": [
      "+--------+---------+------------+\n|VendorID|trip_type|payment_type|\n+--------+---------+------------+\n|       2|        2|           2|\n|       1|        2|           4|\n|       1|        1|           1|\n|       2|        1|           4|\n|       1|        1|           3|\n|       2|        2|           1|\n|       2|        2|           4|\n|       1|        2|           2|\n|       1|        1|           2|\n|       1|        2|           3|\n|       2|        2|           3|\n|       2|        1|           2|\n|       1|        1|           4|\n|       2|        1|           1|\n|       1|        2|           1|\n|       2|        1|           3|\n|       1|        1|           5|\n+--------+---------+------------+\n\n"
     ]
    }
   ],
   "source": [
    "Df.select('VendorID','trip_type','payment_type').distinct().show()"
   ]
  },
  {
   "cell_type": "code",
   "execution_count": 0,
   "metadata": {
    "application/vnd.databricks.v1+cell": {
     "cellMetadata": {},
     "inputWidgets": {},
     "nuid": "65509eb7-4a6b-4f00-970e-fb59c5360a6f",
     "showTitle": false,
     "title": ""
    },
    "nteract": {
     "transient": {
      "deleting": false
     }
    }
   },
   "outputs": [
    {
     "output_type": "display_data",
     "data": {
      "application/vnd.livy.statement-meta+json": {
       "execution_finish_time": "2024-07-18T12:30:24.3757907Z",
       "execution_start_time": "2024-07-18T12:30:24.2135803Z",
       "livy_statement_state": "available",
       "normalized_state": "finished",
       "parent_msg_id": "d1785232-d2d8-4142-bd75-dd3299fb475a",
       "queued_time": "2024-07-18T12:30:24.0824942Z",
       "session_id": "3",
       "session_start_time": null,
       "spark_jobs": null,
       "spark_pool": "spark",
       "state": "finished",
       "statement_id": 48,
       "statement_ids": [
        48
       ]
      },
      "text/plain": [
       "StatementMeta(spark, 3, 48, Finished, Available, Finished)"
      ]
     },
     "metadata": {},
     "output_type": "display_data"
    },
    {
     "output_type": "execute_result",
     "data": {
      "text/plain": [
       "DataFrame[VendorID: int, trip_type: int, payment_type: int, sum(total_amount): double]"
      ]
     },
     "execution_count": 97,
     "metadata": {},
     "output_type": "execute_result"
    }
   ],
   "source": [
    "Df.groupBy('VendorID','trip_type','payment_type').agg(sum('total_amount')).alias(\"Total_Amount\")"
   ]
  },
  {
   "cell_type": "code",
   "execution_count": 0,
   "metadata": {
    "application/vnd.databricks.v1+cell": {
     "cellMetadata": {},
     "inputWidgets": {},
     "nuid": "5fe60ff6-db5c-4ded-bb1e-55632868d149",
     "showTitle": false,
     "title": ""
    },
    "nteract": {
     "transient": {
      "deleting": false
     }
    }
   },
   "outputs": [
    {
     "output_type": "display_data",
     "data": {
      "application/vnd.livy.statement-meta+json": {
       "execution_finish_time": "2024-07-18T12:46:49.431928Z",
       "execution_start_time": null,
       "livy_statement_state": null,
       "normalized_state": "cancelled",
       "parent_msg_id": "b792857e-4396-41c6-85c8-0fafdb12ce1f",
       "queued_time": "2024-07-18T12:41:44.2129888Z",
       "session_id": null,
       "session_start_time": null,
       "spark_jobs": null,
       "spark_pool": null,
       "state": "cancelled",
       "statement_id": null,
       "statement_ids": null
      },
      "text/plain": [
       "StatementMeta(, , , Cancelled, , Cancelled)"
      ]
     },
     "metadata": {},
     "output_type": "display_data"
    }
   ],
   "source": [
    "from pyspark.sql.functions import *\r\n",
    "Df=spark.read.parquet(\"abfss://azurefilesystem@azuresnapseaccount.dfs.core.windows.net/synapse/workspaces/azureworkspaceex/warehouse/green_trp_txitbl\")\r\n",
    "Df.schema\r\n",
    "fileStreamDf=spark.readStream.schema(Df.schema)\\\r\n",
    ".parquet(\"abfss://azurefilesystem@azuresnapseaccount.dfs.core.windows.net/synapse/workspaces/azureworkspaceex/warehouse/green_trp_txitbl/\")\r\n",
    "\r\n",
    "fileStreamDf1=fileStreamDf.select('VendorID', 'payment_type', 'trip_type')\\\r\n",
    "Df.groupBy('VendorID','trip_type','payment_type').agg(sum('total_amount')).alias(\"Total_Amout\")\r\n",
    "query=fileStreamDf1.writeStream.outputMode(\"append\")\\\r\n",
    ".format(\"csv\")\\\r\n",
    ".option(\"path\",\"abfss://azurefilesystem@azuresnapseaccount.dfs.core.windows.net/output_data2/\")\\\r\n",
    ".option(\"checkpointlocation\",\"abfss://azurefilesystem@azuresnapseaccount.dfs.core.windows.net/checkpoint2/\")\\\r\n",
    ".start()\r\n",
    "query.awaitTermination()"
   ]
  },
  {
   "cell_type": "code",
   "execution_count": 0,
   "metadata": {
    "application/vnd.databricks.v1+cell": {
     "cellMetadata": {},
     "inputWidgets": {},
     "nuid": "d724fb4b-e868-453a-ba20-c86331f168f1",
     "showTitle": false,
     "title": ""
    },
    "nteract": {
     "transient": {
      "deleting": false
     }
    }
   },
   "outputs": [],
   "source": []
  }
 ],
 "metadata": {
  "application/vnd.databricks.v1+notebook": {
   "dashboards": [],
   "environmentMetadata": null,
   "language": "python",
   "notebookMetadata": {
    "pythonIndentUnit": 4
   },
   "notebookName": "sparkstructuredstreaming",
   "widgets": {}
  },
  "kernel_info": {
   "name": "synapse_pyspark"
  },
  "kernelspec": {
   "display_name": "Synapse PySpark",
   "language": "Python",
   "name": "synapse_pyspark"
  },
  "language_info": {
   "name": "python"
  },
  "save_output": true,
  "synapse_widget": {
   "state": {},
   "version": "0.1"
  }
 },
 "nbformat": 4,
 "nbformat_minor": 0
}
